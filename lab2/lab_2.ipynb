{
  "cells": [
    {
      "cell_type": "markdown",
      "metadata": {
        "pycharm": {
          "name": "#%% md\n"
        },
        "id": "NPgHf5PiBxzf"
      },
      "source": [
        "# Klasyfikacja niezbalansowana, klasyfikatory zespołowe i wyjaśnialna AI"
      ]
    },
    {
      "cell_type": "markdown",
      "metadata": {
        "pycharm": {
          "name": "#%% md\n"
        },
        "id": "XsXwZp40Bxzi"
      },
      "source": [
        "## Wykorzystanie Google Colab\n",
        "\n",
        "Jeśli korzystasz z Google Colab skopiuj plik `feature_names.json` do katalogu głównego projektu.\n",
        "\n",
        "Pamiętaj o zainstalowaniu zależności z użyciem `uv` lub `pip`."
      ]
    },
    {
      "cell_type": "markdown",
      "metadata": {
        "editable": true,
        "pycharm": {
          "name": "#%% md\n"
        },
        "tags": [],
        "id": "2lrgYAMKBxzi"
      },
      "source": [
        "## Ładowanie i eksploracja danych"
      ]
    },
    {
      "cell_type": "markdown",
      "metadata": {
        "editable": true,
        "pycharm": {
          "name": "#%% md\n"
        },
        "tags": [],
        "id": "pujzykQaBxzi"
      },
      "source": [
        "W trakcie tych zajęć laboratoryjnych wykorzystamy zbiór danych [Polish companies bankruptcy](https://archive.ics.uci.edu/ml/datasets/Polish+companies+bankruptcy+data). Dotyczy on klasyfikacji, na podstawie danych z raportów finansowych, czy firma zbankrutuje w ciągu najbliższych kilku lat. Jest to zadanie szczególnie istotne dla banków, funduszy inwestycyjnych, firm ubezpieczeniowych itp. Zbiór zawiera 64 cechy obliczonych przez ekonomistów. Są one opisane na wspomnianej wcześniej stronie. Dotyczą one zysków firm, posiadanych zasobów, długów itp.\n",
        "\n",
        "Ściągnij i rozpakuj dane (`Data Folder` -> `data.zip`) do katalogu `data` obok tego notebooka. Znajduje się tam 5 plików w formacie `.arff`, wykorzystywanym głównie przez oprogramowanie Weka. Jest to program do wyposażony w graficzny interfejs użytkownika, który był często używany przez mniej techincznie obeznanych użytkowników. W Pythonie dane w tym formacie ładuje się  za pomocą bibliotek SciPy i Pandas.\n"
      ]
    },
    {
      "cell_type": "markdown",
      "metadata": {
        "id": "2BhiDKEGBxzj"
      },
      "source": [
        "Jeśli korzystasz z Linuksa możesz skorzystać z poniższych poleceń do pobrania i rozpakowania tych plików."
      ]
    },
    {
      "cell_type": "code",
      "execution_count": 1,
      "metadata": {
        "ExecuteTime": {
          "end_time": "2023-10-17T12:09:50.173669Z",
          "start_time": "2023-10-17T12:09:24.311939Z"
        },
        "editable": true,
        "tags": [],
        "id": "4tqmSqlQBxzj"
      },
      "outputs": [],
      "source": [
        "#!mkdir -p data\n",
        "#!wget https://archive.ics.uci.edu/static/public/365/polish+companies+bankruptcy+data.zip -O data/data.zip"
      ]
    },
    {
      "cell_type": "code",
      "execution_count": 2,
      "metadata": {
        "ExecuteTime": {
          "end_time": "2023-10-17T12:10:04.017260Z",
          "start_time": "2023-10-17T12:09:57.831756Z"
        },
        "editable": true,
        "tags": [],
        "id": "r7LI5vywBxzj"
      },
      "outputs": [],
      "source": [
        "#!unzip data/data.zip -d data"
      ]
    },
    {
      "cell_type": "markdown",
      "metadata": {
        "editable": true,
        "tags": [],
        "id": "VrN8zYZMBxzk"
      },
      "source": [
        "\n",
        "W dalszej części laboratorium wykorzystamy plik `3year.arff`, w którym na podstawie danych finansowych firmy po 3 latach monitorowania chcemy przewidywać, czy firma zbankrutuje w ciągu najbliższych 3 lat. Jest to dość realistyczny horyzont czasowy.\n",
        "\n",
        "Dodatkowo w pliku `feature_names.json` znajdują się nazwy cech. Nazwy są bardzo długie, więc póki co nie będziemy z nich korzystać."
      ]
    },
    {
      "cell_type": "code",
      "execution_count": 3,
      "metadata": {
        "editable": true,
        "pycharm": {
          "name": "#%%\n"
        },
        "tags": [],
        "id": "TPqSPVGJBxzk"
      },
      "outputs": [],
      "source": [
        "import json\n",
        "import os\n",
        "\n",
        "from scipy.io import arff\n",
        "import pandas as pd\n",
        "\n",
        "import matplotlib.pyplot as plt\n",
        "\n",
        "data = arff.loadarff(os.path.join(\"data\", \"3year.arff\"))\n",
        "\n",
        "with open(\"feature_names.json\") as file:\n",
        "    feature_names = json.load(file)\n",
        "\n",
        "X = pd.DataFrame(data[0])"
      ]
    },
    {
      "cell_type": "markdown",
      "metadata": {
        "pycharm": {
          "name": "#%% md\n"
        },
        "id": "ccHkCX85Bxzk"
      },
      "source": [
        "Przyjrzyjmy się teraz naszym danym."
      ]
    },
    {
      "cell_type": "code",
      "execution_count": 4,
      "metadata": {
        "editable": true,
        "pycharm": {
          "name": "#%%\n"
        },
        "tags": [],
        "id": "lYPXXWEPBxzk",
        "outputId": "390c0d22-e5b7-4a2e-9290-3f8eb2d69b05",
        "colab": {
          "base_uri": "https://localhost:8080/",
          "height": 235
        }
      },
      "outputs": [
        {
          "output_type": "execute_result",
          "data": {
            "text/plain": [
              "      Attr1    Attr2    Attr3   Attr4    Attr5    Attr6     Attr7   Attr8  \\\n",
              "0  0.174190  0.41299  0.14371  1.3480 -28.9820  0.60383  0.219460  1.1225   \n",
              "1  0.146240  0.46038  0.28230  1.6294   2.5952  0.00000  0.171850  1.1721   \n",
              "2  0.000595  0.22612  0.48839  3.1599  84.8740  0.19114  0.004572  2.9881   \n",
              "3  0.024526  0.43236  0.27546  1.7833 -10.1050  0.56944  0.024526  1.3057   \n",
              "4  0.188290  0.41504  0.34231  1.9279 -58.2740  0.00000  0.233580  1.4094   \n",
              "\n",
              "    Attr9   Attr10  ...    Attr56    Attr57   Attr58    Attr59  Attr60  \\\n",
              "0  1.1961  0.46359  ...  0.163960  0.375740  0.83604  0.000007  9.7145   \n",
              "1  1.6018  0.53962  ...  0.027516  0.271000  0.90108  0.000000  5.9882   \n",
              "2  1.0077  0.67566  ...  0.007639  0.000881  0.99236  0.000000  6.7742   \n",
              "3  1.0509  0.56453  ...  0.048398  0.043445  0.95160  0.142980  4.2286   \n",
              "4  1.3393  0.58496  ...  0.176480  0.321880  0.82635  0.073039  2.5912   \n",
              "\n",
              "   Attr61   Attr62  Attr63  Attr64  class  \n",
              "0  6.2813   84.291  4.3303  4.0341   b'0'  \n",
              "1  4.1103  102.190  3.5716  5.9500   b'0'  \n",
              "2  3.7922   64.846  5.6287  4.4581   b'0'  \n",
              "3  5.0528   98.783  3.6950  3.4844   b'0'  \n",
              "4  7.0756  100.540  3.6303  4.6375   b'0'  \n",
              "\n",
              "[5 rows x 65 columns]"
            ],
            "text/html": [
              "\n",
              "  <div id=\"df-ad72322f-5b53-4550-9cb9-9ecada7e094c\" class=\"colab-df-container\">\n",
              "    <div>\n",
              "<style scoped>\n",
              "    .dataframe tbody tr th:only-of-type {\n",
              "        vertical-align: middle;\n",
              "    }\n",
              "\n",
              "    .dataframe tbody tr th {\n",
              "        vertical-align: top;\n",
              "    }\n",
              "\n",
              "    .dataframe thead th {\n",
              "        text-align: right;\n",
              "    }\n",
              "</style>\n",
              "<table border=\"1\" class=\"dataframe\">\n",
              "  <thead>\n",
              "    <tr style=\"text-align: right;\">\n",
              "      <th></th>\n",
              "      <th>Attr1</th>\n",
              "      <th>Attr2</th>\n",
              "      <th>Attr3</th>\n",
              "      <th>Attr4</th>\n",
              "      <th>Attr5</th>\n",
              "      <th>Attr6</th>\n",
              "      <th>Attr7</th>\n",
              "      <th>Attr8</th>\n",
              "      <th>Attr9</th>\n",
              "      <th>Attr10</th>\n",
              "      <th>...</th>\n",
              "      <th>Attr56</th>\n",
              "      <th>Attr57</th>\n",
              "      <th>Attr58</th>\n",
              "      <th>Attr59</th>\n",
              "      <th>Attr60</th>\n",
              "      <th>Attr61</th>\n",
              "      <th>Attr62</th>\n",
              "      <th>Attr63</th>\n",
              "      <th>Attr64</th>\n",
              "      <th>class</th>\n",
              "    </tr>\n",
              "  </thead>\n",
              "  <tbody>\n",
              "    <tr>\n",
              "      <th>0</th>\n",
              "      <td>0.174190</td>\n",
              "      <td>0.41299</td>\n",
              "      <td>0.14371</td>\n",
              "      <td>1.3480</td>\n",
              "      <td>-28.9820</td>\n",
              "      <td>0.60383</td>\n",
              "      <td>0.219460</td>\n",
              "      <td>1.1225</td>\n",
              "      <td>1.1961</td>\n",
              "      <td>0.46359</td>\n",
              "      <td>...</td>\n",
              "      <td>0.163960</td>\n",
              "      <td>0.375740</td>\n",
              "      <td>0.83604</td>\n",
              "      <td>0.000007</td>\n",
              "      <td>9.7145</td>\n",
              "      <td>6.2813</td>\n",
              "      <td>84.291</td>\n",
              "      <td>4.3303</td>\n",
              "      <td>4.0341</td>\n",
              "      <td>b'0'</td>\n",
              "    </tr>\n",
              "    <tr>\n",
              "      <th>1</th>\n",
              "      <td>0.146240</td>\n",
              "      <td>0.46038</td>\n",
              "      <td>0.28230</td>\n",
              "      <td>1.6294</td>\n",
              "      <td>2.5952</td>\n",
              "      <td>0.00000</td>\n",
              "      <td>0.171850</td>\n",
              "      <td>1.1721</td>\n",
              "      <td>1.6018</td>\n",
              "      <td>0.53962</td>\n",
              "      <td>...</td>\n",
              "      <td>0.027516</td>\n",
              "      <td>0.271000</td>\n",
              "      <td>0.90108</td>\n",
              "      <td>0.000000</td>\n",
              "      <td>5.9882</td>\n",
              "      <td>4.1103</td>\n",
              "      <td>102.190</td>\n",
              "      <td>3.5716</td>\n",
              "      <td>5.9500</td>\n",
              "      <td>b'0'</td>\n",
              "    </tr>\n",
              "    <tr>\n",
              "      <th>2</th>\n",
              "      <td>0.000595</td>\n",
              "      <td>0.22612</td>\n",
              "      <td>0.48839</td>\n",
              "      <td>3.1599</td>\n",
              "      <td>84.8740</td>\n",
              "      <td>0.19114</td>\n",
              "      <td>0.004572</td>\n",
              "      <td>2.9881</td>\n",
              "      <td>1.0077</td>\n",
              "      <td>0.67566</td>\n",
              "      <td>...</td>\n",
              "      <td>0.007639</td>\n",
              "      <td>0.000881</td>\n",
              "      <td>0.99236</td>\n",
              "      <td>0.000000</td>\n",
              "      <td>6.7742</td>\n",
              "      <td>3.7922</td>\n",
              "      <td>64.846</td>\n",
              "      <td>5.6287</td>\n",
              "      <td>4.4581</td>\n",
              "      <td>b'0'</td>\n",
              "    </tr>\n",
              "    <tr>\n",
              "      <th>3</th>\n",
              "      <td>0.024526</td>\n",
              "      <td>0.43236</td>\n",
              "      <td>0.27546</td>\n",
              "      <td>1.7833</td>\n",
              "      <td>-10.1050</td>\n",
              "      <td>0.56944</td>\n",
              "      <td>0.024526</td>\n",
              "      <td>1.3057</td>\n",
              "      <td>1.0509</td>\n",
              "      <td>0.56453</td>\n",
              "      <td>...</td>\n",
              "      <td>0.048398</td>\n",
              "      <td>0.043445</td>\n",
              "      <td>0.95160</td>\n",
              "      <td>0.142980</td>\n",
              "      <td>4.2286</td>\n",
              "      <td>5.0528</td>\n",
              "      <td>98.783</td>\n",
              "      <td>3.6950</td>\n",
              "      <td>3.4844</td>\n",
              "      <td>b'0'</td>\n",
              "    </tr>\n",
              "    <tr>\n",
              "      <th>4</th>\n",
              "      <td>0.188290</td>\n",
              "      <td>0.41504</td>\n",
              "      <td>0.34231</td>\n",
              "      <td>1.9279</td>\n",
              "      <td>-58.2740</td>\n",
              "      <td>0.00000</td>\n",
              "      <td>0.233580</td>\n",
              "      <td>1.4094</td>\n",
              "      <td>1.3393</td>\n",
              "      <td>0.58496</td>\n",
              "      <td>...</td>\n",
              "      <td>0.176480</td>\n",
              "      <td>0.321880</td>\n",
              "      <td>0.82635</td>\n",
              "      <td>0.073039</td>\n",
              "      <td>2.5912</td>\n",
              "      <td>7.0756</td>\n",
              "      <td>100.540</td>\n",
              "      <td>3.6303</td>\n",
              "      <td>4.6375</td>\n",
              "      <td>b'0'</td>\n",
              "    </tr>\n",
              "  </tbody>\n",
              "</table>\n",
              "<p>5 rows × 65 columns</p>\n",
              "</div>\n",
              "    <div class=\"colab-df-buttons\">\n",
              "\n",
              "  <div class=\"colab-df-container\">\n",
              "    <button class=\"colab-df-convert\" onclick=\"convertToInteractive('df-ad72322f-5b53-4550-9cb9-9ecada7e094c')\"\n",
              "            title=\"Convert this dataframe to an interactive table.\"\n",
              "            style=\"display:none;\">\n",
              "\n",
              "  <svg xmlns=\"http://www.w3.org/2000/svg\" height=\"24px\" viewBox=\"0 -960 960 960\">\n",
              "    <path d=\"M120-120v-720h720v720H120Zm60-500h600v-160H180v160Zm220 220h160v-160H400v160Zm0 220h160v-160H400v160ZM180-400h160v-160H180v160Zm440 0h160v-160H620v160ZM180-180h160v-160H180v160Zm440 0h160v-160H620v160Z\"/>\n",
              "  </svg>\n",
              "    </button>\n",
              "\n",
              "  <style>\n",
              "    .colab-df-container {\n",
              "      display:flex;\n",
              "      gap: 12px;\n",
              "    }\n",
              "\n",
              "    .colab-df-convert {\n",
              "      background-color: #E8F0FE;\n",
              "      border: none;\n",
              "      border-radius: 50%;\n",
              "      cursor: pointer;\n",
              "      display: none;\n",
              "      fill: #1967D2;\n",
              "      height: 32px;\n",
              "      padding: 0 0 0 0;\n",
              "      width: 32px;\n",
              "    }\n",
              "\n",
              "    .colab-df-convert:hover {\n",
              "      background-color: #E2EBFA;\n",
              "      box-shadow: 0px 1px 2px rgba(60, 64, 67, 0.3), 0px 1px 3px 1px rgba(60, 64, 67, 0.15);\n",
              "      fill: #174EA6;\n",
              "    }\n",
              "\n",
              "    .colab-df-buttons div {\n",
              "      margin-bottom: 4px;\n",
              "    }\n",
              "\n",
              "    [theme=dark] .colab-df-convert {\n",
              "      background-color: #3B4455;\n",
              "      fill: #D2E3FC;\n",
              "    }\n",
              "\n",
              "    [theme=dark] .colab-df-convert:hover {\n",
              "      background-color: #434B5C;\n",
              "      box-shadow: 0px 1px 3px 1px rgba(0, 0, 0, 0.15);\n",
              "      filter: drop-shadow(0px 1px 2px rgba(0, 0, 0, 0.3));\n",
              "      fill: #FFFFFF;\n",
              "    }\n",
              "  </style>\n",
              "\n",
              "    <script>\n",
              "      const buttonEl =\n",
              "        document.querySelector('#df-ad72322f-5b53-4550-9cb9-9ecada7e094c button.colab-df-convert');\n",
              "      buttonEl.style.display =\n",
              "        google.colab.kernel.accessAllowed ? 'block' : 'none';\n",
              "\n",
              "      async function convertToInteractive(key) {\n",
              "        const element = document.querySelector('#df-ad72322f-5b53-4550-9cb9-9ecada7e094c');\n",
              "        const dataTable =\n",
              "          await google.colab.kernel.invokeFunction('convertToInteractive',\n",
              "                                                    [key], {});\n",
              "        if (!dataTable) return;\n",
              "\n",
              "        const docLinkHtml = 'Like what you see? Visit the ' +\n",
              "          '<a target=\"_blank\" href=https://colab.research.google.com/notebooks/data_table.ipynb>data table notebook</a>'\n",
              "          + ' to learn more about interactive tables.';\n",
              "        element.innerHTML = '';\n",
              "        dataTable['output_type'] = 'display_data';\n",
              "        await google.colab.output.renderOutput(dataTable, element);\n",
              "        const docLink = document.createElement('div');\n",
              "        docLink.innerHTML = docLinkHtml;\n",
              "        element.appendChild(docLink);\n",
              "      }\n",
              "    </script>\n",
              "  </div>\n",
              "\n",
              "\n",
              "    <div id=\"df-78e01520-ca3e-4338-b537-ca820ee48cb9\">\n",
              "      <button class=\"colab-df-quickchart\" onclick=\"quickchart('df-78e01520-ca3e-4338-b537-ca820ee48cb9')\"\n",
              "                title=\"Suggest charts\"\n",
              "                style=\"display:none;\">\n",
              "\n",
              "<svg xmlns=\"http://www.w3.org/2000/svg\" height=\"24px\"viewBox=\"0 0 24 24\"\n",
              "     width=\"24px\">\n",
              "    <g>\n",
              "        <path d=\"M19 3H5c-1.1 0-2 .9-2 2v14c0 1.1.9 2 2 2h14c1.1 0 2-.9 2-2V5c0-1.1-.9-2-2-2zM9 17H7v-7h2v7zm4 0h-2V7h2v10zm4 0h-2v-4h2v4z\"/>\n",
              "    </g>\n",
              "</svg>\n",
              "      </button>\n",
              "\n",
              "<style>\n",
              "  .colab-df-quickchart {\n",
              "      --bg-color: #E8F0FE;\n",
              "      --fill-color: #1967D2;\n",
              "      --hover-bg-color: #E2EBFA;\n",
              "      --hover-fill-color: #174EA6;\n",
              "      --disabled-fill-color: #AAA;\n",
              "      --disabled-bg-color: #DDD;\n",
              "  }\n",
              "\n",
              "  [theme=dark] .colab-df-quickchart {\n",
              "      --bg-color: #3B4455;\n",
              "      --fill-color: #D2E3FC;\n",
              "      --hover-bg-color: #434B5C;\n",
              "      --hover-fill-color: #FFFFFF;\n",
              "      --disabled-bg-color: #3B4455;\n",
              "      --disabled-fill-color: #666;\n",
              "  }\n",
              "\n",
              "  .colab-df-quickchart {\n",
              "    background-color: var(--bg-color);\n",
              "    border: none;\n",
              "    border-radius: 50%;\n",
              "    cursor: pointer;\n",
              "    display: none;\n",
              "    fill: var(--fill-color);\n",
              "    height: 32px;\n",
              "    padding: 0;\n",
              "    width: 32px;\n",
              "  }\n",
              "\n",
              "  .colab-df-quickchart:hover {\n",
              "    background-color: var(--hover-bg-color);\n",
              "    box-shadow: 0 1px 2px rgba(60, 64, 67, 0.3), 0 1px 3px 1px rgba(60, 64, 67, 0.15);\n",
              "    fill: var(--button-hover-fill-color);\n",
              "  }\n",
              "\n",
              "  .colab-df-quickchart-complete:disabled,\n",
              "  .colab-df-quickchart-complete:disabled:hover {\n",
              "    background-color: var(--disabled-bg-color);\n",
              "    fill: var(--disabled-fill-color);\n",
              "    box-shadow: none;\n",
              "  }\n",
              "\n",
              "  .colab-df-spinner {\n",
              "    border: 2px solid var(--fill-color);\n",
              "    border-color: transparent;\n",
              "    border-bottom-color: var(--fill-color);\n",
              "    animation:\n",
              "      spin 1s steps(1) infinite;\n",
              "  }\n",
              "\n",
              "  @keyframes spin {\n",
              "    0% {\n",
              "      border-color: transparent;\n",
              "      border-bottom-color: var(--fill-color);\n",
              "      border-left-color: var(--fill-color);\n",
              "    }\n",
              "    20% {\n",
              "      border-color: transparent;\n",
              "      border-left-color: var(--fill-color);\n",
              "      border-top-color: var(--fill-color);\n",
              "    }\n",
              "    30% {\n",
              "      border-color: transparent;\n",
              "      border-left-color: var(--fill-color);\n",
              "      border-top-color: var(--fill-color);\n",
              "      border-right-color: var(--fill-color);\n",
              "    }\n",
              "    40% {\n",
              "      border-color: transparent;\n",
              "      border-right-color: var(--fill-color);\n",
              "      border-top-color: var(--fill-color);\n",
              "    }\n",
              "    60% {\n",
              "      border-color: transparent;\n",
              "      border-right-color: var(--fill-color);\n",
              "    }\n",
              "    80% {\n",
              "      border-color: transparent;\n",
              "      border-right-color: var(--fill-color);\n",
              "      border-bottom-color: var(--fill-color);\n",
              "    }\n",
              "    90% {\n",
              "      border-color: transparent;\n",
              "      border-bottom-color: var(--fill-color);\n",
              "    }\n",
              "  }\n",
              "</style>\n",
              "\n",
              "      <script>\n",
              "        async function quickchart(key) {\n",
              "          const quickchartButtonEl =\n",
              "            document.querySelector('#' + key + ' button');\n",
              "          quickchartButtonEl.disabled = true;  // To prevent multiple clicks.\n",
              "          quickchartButtonEl.classList.add('colab-df-spinner');\n",
              "          try {\n",
              "            const charts = await google.colab.kernel.invokeFunction(\n",
              "                'suggestCharts', [key], {});\n",
              "          } catch (error) {\n",
              "            console.error('Error during call to suggestCharts:', error);\n",
              "          }\n",
              "          quickchartButtonEl.classList.remove('colab-df-spinner');\n",
              "          quickchartButtonEl.classList.add('colab-df-quickchart-complete');\n",
              "        }\n",
              "        (() => {\n",
              "          let quickchartButtonEl =\n",
              "            document.querySelector('#df-78e01520-ca3e-4338-b537-ca820ee48cb9 button');\n",
              "          quickchartButtonEl.style.display =\n",
              "            google.colab.kernel.accessAllowed ? 'block' : 'none';\n",
              "        })();\n",
              "      </script>\n",
              "    </div>\n",
              "\n",
              "    </div>\n",
              "  </div>\n"
            ],
            "application/vnd.google.colaboratory.intrinsic+json": {
              "type": "dataframe",
              "variable_name": "X"
            }
          },
          "metadata": {},
          "execution_count": 4
        }
      ],
      "source": [
        "X.head()"
      ]
    },
    {
      "cell_type": "code",
      "execution_count": 5,
      "metadata": {
        "editable": true,
        "pycharm": {
          "name": "#%%\n"
        },
        "tags": [],
        "id": "6gnfRdThBxzk",
        "outputId": "2c7b7951-dd2a-4749-bb13-ae8cfae0c6e6",
        "colab": {
          "base_uri": "https://localhost:8080/",
          "height": 458
        }
      },
      "outputs": [
        {
          "output_type": "execute_result",
          "data": {
            "text/plain": [
              "Attr1     float64\n",
              "Attr2     float64\n",
              "Attr3     float64\n",
              "Attr4     float64\n",
              "Attr5     float64\n",
              "           ...   \n",
              "Attr61    float64\n",
              "Attr62    float64\n",
              "Attr63    float64\n",
              "Attr64    float64\n",
              "class      object\n",
              "Length: 65, dtype: object"
            ],
            "text/html": [
              "<div>\n",
              "<style scoped>\n",
              "    .dataframe tbody tr th:only-of-type {\n",
              "        vertical-align: middle;\n",
              "    }\n",
              "\n",
              "    .dataframe tbody tr th {\n",
              "        vertical-align: top;\n",
              "    }\n",
              "\n",
              "    .dataframe thead th {\n",
              "        text-align: right;\n",
              "    }\n",
              "</style>\n",
              "<table border=\"1\" class=\"dataframe\">\n",
              "  <thead>\n",
              "    <tr style=\"text-align: right;\">\n",
              "      <th></th>\n",
              "      <th>0</th>\n",
              "    </tr>\n",
              "  </thead>\n",
              "  <tbody>\n",
              "    <tr>\n",
              "      <th>Attr1</th>\n",
              "      <td>float64</td>\n",
              "    </tr>\n",
              "    <tr>\n",
              "      <th>Attr2</th>\n",
              "      <td>float64</td>\n",
              "    </tr>\n",
              "    <tr>\n",
              "      <th>Attr3</th>\n",
              "      <td>float64</td>\n",
              "    </tr>\n",
              "    <tr>\n",
              "      <th>Attr4</th>\n",
              "      <td>float64</td>\n",
              "    </tr>\n",
              "    <tr>\n",
              "      <th>Attr5</th>\n",
              "      <td>float64</td>\n",
              "    </tr>\n",
              "    <tr>\n",
              "      <th>...</th>\n",
              "      <td>...</td>\n",
              "    </tr>\n",
              "    <tr>\n",
              "      <th>Attr61</th>\n",
              "      <td>float64</td>\n",
              "    </tr>\n",
              "    <tr>\n",
              "      <th>Attr62</th>\n",
              "      <td>float64</td>\n",
              "    </tr>\n",
              "    <tr>\n",
              "      <th>Attr63</th>\n",
              "      <td>float64</td>\n",
              "    </tr>\n",
              "    <tr>\n",
              "      <th>Attr64</th>\n",
              "      <td>float64</td>\n",
              "    </tr>\n",
              "    <tr>\n",
              "      <th>class</th>\n",
              "      <td>object</td>\n",
              "    </tr>\n",
              "  </tbody>\n",
              "</table>\n",
              "<p>65 rows × 1 columns</p>\n",
              "</div><br><label><b>dtype:</b> object</label>"
            ]
          },
          "metadata": {},
          "execution_count": 5
        }
      ],
      "source": [
        "X.dtypes"
      ]
    },
    {
      "cell_type": "code",
      "execution_count": 6,
      "metadata": {
        "pycharm": {
          "name": "#%%\n"
        },
        "id": "CyAVKpj6Bxzk",
        "outputId": "a1c1f1c3-9521-48f0-d6d8-5615c8d47e16",
        "colab": {
          "base_uri": "https://localhost:8080/",
          "height": 349
        }
      },
      "outputs": [
        {
          "output_type": "execute_result",
          "data": {
            "text/plain": [
              "              Attr1         Attr2         Attr3         Attr4         Attr5  \\\n",
              "count  10503.000000  10503.000000  10503.000000  10485.000000  1.047800e+04   \n",
              "mean       0.052844      0.619911      0.095490      9.980499 -1.347662e+03   \n",
              "std        0.647797      6.427041      6.420056    523.691951  1.185806e+05   \n",
              "min      -17.692000      0.000000   -479.730000      0.002080 -1.190300e+07   \n",
              "25%        0.000686      0.253955      0.017461      1.040100 -5.207075e+01   \n",
              "50%        0.043034      0.464140      0.198560      1.605600  1.579300e+00   \n",
              "75%        0.123805      0.689330      0.419545      2.959500  5.608400e+01   \n",
              "max       52.652000    480.730000     17.708000  53433.000000  6.854400e+05   \n",
              "\n",
              "              Attr6         Attr7         Attr8         Attr9        Attr10  \\\n",
              "count  10503.000000  10503.000000  10489.000000  10500.000000  10503.000000   \n",
              "mean      -0.121159      0.065624     19.140113      1.819254      0.366093   \n",
              "std        6.970625      0.651152    717.756745      7.581659      6.428603   \n",
              "min     -508.120000    -17.692000     -2.081800     -1.215700   -479.730000   \n",
              "25%        0.000000      0.002118      0.431270      1.011275      0.297340   \n",
              "50%        0.000000      0.050945      1.111000      1.199000      0.515500   \n",
              "75%        0.072584      0.142275      2.857100      2.059100      0.725635   \n",
              "max       45.533000     52.652000  53432.000000    740.440000     11.837000   \n",
              "\n",
              "       ...        Attr55        Attr56        Attr57        Attr58  \\\n",
              "count  ...  1.050300e+04  10460.000000  10503.000000  10474.000000   \n",
              "mean   ...  6.638549e+03     -0.530082     -0.014817      3.848794   \n",
              "std    ...  5.989196e+04     55.978608     18.684047    190.201224   \n",
              "min    ... -7.513800e+05  -5691.700000  -1667.300000   -198.690000   \n",
              "25%    ...  1.462100e+01      0.005137      0.006796      0.875560   \n",
              "50%    ...  8.822900e+02      0.051765      0.106880      0.953060   \n",
              "75%    ...  4.348900e+03      0.130010      0.271310      0.995927   \n",
              "max    ...  3.380500e+06    293.150000    552.640000  18118.000000   \n",
              "\n",
              "             Attr59        Attr60        Attr61        Attr62        Attr63  \\\n",
              "count  10503.000000  9.911000e+03  10486.000000  1.046000e+04  10485.000000   \n",
              "mean       1.429319  5.713363e+02     13.935361  1.355370e+02      9.095149   \n",
              "std       77.273270  3.715967e+04     83.704103  2.599116e+04     31.419096   \n",
              "min     -172.070000  0.000000e+00     -6.590300 -2.336500e+06     -0.000156   \n",
              "25%        0.000000  5.533150e+00      4.486075  4.073700e+01      3.062800   \n",
              "50%        0.002976  9.952100e+00      6.677300  7.066400e+01      5.139200   \n",
              "75%        0.240320  2.093600e+01     10.587500  1.182200e+02      8.882600   \n",
              "max     7617.300000  3.660200e+06   4470.400000  1.073500e+06   1974.500000   \n",
              "\n",
              "             Attr64  \n",
              "count  10275.000000  \n",
              "mean      35.766800  \n",
              "std      428.298315  \n",
              "min       -0.000102  \n",
              "25%        2.023350  \n",
              "50%        4.059300  \n",
              "75%        9.682750  \n",
              "max    21499.000000  \n",
              "\n",
              "[8 rows x 64 columns]"
            ],
            "text/html": [
              "\n",
              "  <div id=\"df-55ffc7ce-f83a-4d37-ae85-d8988678c2e0\" class=\"colab-df-container\">\n",
              "    <div>\n",
              "<style scoped>\n",
              "    .dataframe tbody tr th:only-of-type {\n",
              "        vertical-align: middle;\n",
              "    }\n",
              "\n",
              "    .dataframe tbody tr th {\n",
              "        vertical-align: top;\n",
              "    }\n",
              "\n",
              "    .dataframe thead th {\n",
              "        text-align: right;\n",
              "    }\n",
              "</style>\n",
              "<table border=\"1\" class=\"dataframe\">\n",
              "  <thead>\n",
              "    <tr style=\"text-align: right;\">\n",
              "      <th></th>\n",
              "      <th>Attr1</th>\n",
              "      <th>Attr2</th>\n",
              "      <th>Attr3</th>\n",
              "      <th>Attr4</th>\n",
              "      <th>Attr5</th>\n",
              "      <th>Attr6</th>\n",
              "      <th>Attr7</th>\n",
              "      <th>Attr8</th>\n",
              "      <th>Attr9</th>\n",
              "      <th>Attr10</th>\n",
              "      <th>...</th>\n",
              "      <th>Attr55</th>\n",
              "      <th>Attr56</th>\n",
              "      <th>Attr57</th>\n",
              "      <th>Attr58</th>\n",
              "      <th>Attr59</th>\n",
              "      <th>Attr60</th>\n",
              "      <th>Attr61</th>\n",
              "      <th>Attr62</th>\n",
              "      <th>Attr63</th>\n",
              "      <th>Attr64</th>\n",
              "    </tr>\n",
              "  </thead>\n",
              "  <tbody>\n",
              "    <tr>\n",
              "      <th>count</th>\n",
              "      <td>10503.000000</td>\n",
              "      <td>10503.000000</td>\n",
              "      <td>10503.000000</td>\n",
              "      <td>10485.000000</td>\n",
              "      <td>1.047800e+04</td>\n",
              "      <td>10503.000000</td>\n",
              "      <td>10503.000000</td>\n",
              "      <td>10489.000000</td>\n",
              "      <td>10500.000000</td>\n",
              "      <td>10503.000000</td>\n",
              "      <td>...</td>\n",
              "      <td>1.050300e+04</td>\n",
              "      <td>10460.000000</td>\n",
              "      <td>10503.000000</td>\n",
              "      <td>10474.000000</td>\n",
              "      <td>10503.000000</td>\n",
              "      <td>9.911000e+03</td>\n",
              "      <td>10486.000000</td>\n",
              "      <td>1.046000e+04</td>\n",
              "      <td>10485.000000</td>\n",
              "      <td>10275.000000</td>\n",
              "    </tr>\n",
              "    <tr>\n",
              "      <th>mean</th>\n",
              "      <td>0.052844</td>\n",
              "      <td>0.619911</td>\n",
              "      <td>0.095490</td>\n",
              "      <td>9.980499</td>\n",
              "      <td>-1.347662e+03</td>\n",
              "      <td>-0.121159</td>\n",
              "      <td>0.065624</td>\n",
              "      <td>19.140113</td>\n",
              "      <td>1.819254</td>\n",
              "      <td>0.366093</td>\n",
              "      <td>...</td>\n",
              "      <td>6.638549e+03</td>\n",
              "      <td>-0.530082</td>\n",
              "      <td>-0.014817</td>\n",
              "      <td>3.848794</td>\n",
              "      <td>1.429319</td>\n",
              "      <td>5.713363e+02</td>\n",
              "      <td>13.935361</td>\n",
              "      <td>1.355370e+02</td>\n",
              "      <td>9.095149</td>\n",
              "      <td>35.766800</td>\n",
              "    </tr>\n",
              "    <tr>\n",
              "      <th>std</th>\n",
              "      <td>0.647797</td>\n",
              "      <td>6.427041</td>\n",
              "      <td>6.420056</td>\n",
              "      <td>523.691951</td>\n",
              "      <td>1.185806e+05</td>\n",
              "      <td>6.970625</td>\n",
              "      <td>0.651152</td>\n",
              "      <td>717.756745</td>\n",
              "      <td>7.581659</td>\n",
              "      <td>6.428603</td>\n",
              "      <td>...</td>\n",
              "      <td>5.989196e+04</td>\n",
              "      <td>55.978608</td>\n",
              "      <td>18.684047</td>\n",
              "      <td>190.201224</td>\n",
              "      <td>77.273270</td>\n",
              "      <td>3.715967e+04</td>\n",
              "      <td>83.704103</td>\n",
              "      <td>2.599116e+04</td>\n",
              "      <td>31.419096</td>\n",
              "      <td>428.298315</td>\n",
              "    </tr>\n",
              "    <tr>\n",
              "      <th>min</th>\n",
              "      <td>-17.692000</td>\n",
              "      <td>0.000000</td>\n",
              "      <td>-479.730000</td>\n",
              "      <td>0.002080</td>\n",
              "      <td>-1.190300e+07</td>\n",
              "      <td>-508.120000</td>\n",
              "      <td>-17.692000</td>\n",
              "      <td>-2.081800</td>\n",
              "      <td>-1.215700</td>\n",
              "      <td>-479.730000</td>\n",
              "      <td>...</td>\n",
              "      <td>-7.513800e+05</td>\n",
              "      <td>-5691.700000</td>\n",
              "      <td>-1667.300000</td>\n",
              "      <td>-198.690000</td>\n",
              "      <td>-172.070000</td>\n",
              "      <td>0.000000e+00</td>\n",
              "      <td>-6.590300</td>\n",
              "      <td>-2.336500e+06</td>\n",
              "      <td>-0.000156</td>\n",
              "      <td>-0.000102</td>\n",
              "    </tr>\n",
              "    <tr>\n",
              "      <th>25%</th>\n",
              "      <td>0.000686</td>\n",
              "      <td>0.253955</td>\n",
              "      <td>0.017461</td>\n",
              "      <td>1.040100</td>\n",
              "      <td>-5.207075e+01</td>\n",
              "      <td>0.000000</td>\n",
              "      <td>0.002118</td>\n",
              "      <td>0.431270</td>\n",
              "      <td>1.011275</td>\n",
              "      <td>0.297340</td>\n",
              "      <td>...</td>\n",
              "      <td>1.462100e+01</td>\n",
              "      <td>0.005137</td>\n",
              "      <td>0.006796</td>\n",
              "      <td>0.875560</td>\n",
              "      <td>0.000000</td>\n",
              "      <td>5.533150e+00</td>\n",
              "      <td>4.486075</td>\n",
              "      <td>4.073700e+01</td>\n",
              "      <td>3.062800</td>\n",
              "      <td>2.023350</td>\n",
              "    </tr>\n",
              "    <tr>\n",
              "      <th>50%</th>\n",
              "      <td>0.043034</td>\n",
              "      <td>0.464140</td>\n",
              "      <td>0.198560</td>\n",
              "      <td>1.605600</td>\n",
              "      <td>1.579300e+00</td>\n",
              "      <td>0.000000</td>\n",
              "      <td>0.050945</td>\n",
              "      <td>1.111000</td>\n",
              "      <td>1.199000</td>\n",
              "      <td>0.515500</td>\n",
              "      <td>...</td>\n",
              "      <td>8.822900e+02</td>\n",
              "      <td>0.051765</td>\n",
              "      <td>0.106880</td>\n",
              "      <td>0.953060</td>\n",
              "      <td>0.002976</td>\n",
              "      <td>9.952100e+00</td>\n",
              "      <td>6.677300</td>\n",
              "      <td>7.066400e+01</td>\n",
              "      <td>5.139200</td>\n",
              "      <td>4.059300</td>\n",
              "    </tr>\n",
              "    <tr>\n",
              "      <th>75%</th>\n",
              "      <td>0.123805</td>\n",
              "      <td>0.689330</td>\n",
              "      <td>0.419545</td>\n",
              "      <td>2.959500</td>\n",
              "      <td>5.608400e+01</td>\n",
              "      <td>0.072584</td>\n",
              "      <td>0.142275</td>\n",
              "      <td>2.857100</td>\n",
              "      <td>2.059100</td>\n",
              "      <td>0.725635</td>\n",
              "      <td>...</td>\n",
              "      <td>4.348900e+03</td>\n",
              "      <td>0.130010</td>\n",
              "      <td>0.271310</td>\n",
              "      <td>0.995927</td>\n",
              "      <td>0.240320</td>\n",
              "      <td>2.093600e+01</td>\n",
              "      <td>10.587500</td>\n",
              "      <td>1.182200e+02</td>\n",
              "      <td>8.882600</td>\n",
              "      <td>9.682750</td>\n",
              "    </tr>\n",
              "    <tr>\n",
              "      <th>max</th>\n",
              "      <td>52.652000</td>\n",
              "      <td>480.730000</td>\n",
              "      <td>17.708000</td>\n",
              "      <td>53433.000000</td>\n",
              "      <td>6.854400e+05</td>\n",
              "      <td>45.533000</td>\n",
              "      <td>52.652000</td>\n",
              "      <td>53432.000000</td>\n",
              "      <td>740.440000</td>\n",
              "      <td>11.837000</td>\n",
              "      <td>...</td>\n",
              "      <td>3.380500e+06</td>\n",
              "      <td>293.150000</td>\n",
              "      <td>552.640000</td>\n",
              "      <td>18118.000000</td>\n",
              "      <td>7617.300000</td>\n",
              "      <td>3.660200e+06</td>\n",
              "      <td>4470.400000</td>\n",
              "      <td>1.073500e+06</td>\n",
              "      <td>1974.500000</td>\n",
              "      <td>21499.000000</td>\n",
              "    </tr>\n",
              "  </tbody>\n",
              "</table>\n",
              "<p>8 rows × 64 columns</p>\n",
              "</div>\n",
              "    <div class=\"colab-df-buttons\">\n",
              "\n",
              "  <div class=\"colab-df-container\">\n",
              "    <button class=\"colab-df-convert\" onclick=\"convertToInteractive('df-55ffc7ce-f83a-4d37-ae85-d8988678c2e0')\"\n",
              "            title=\"Convert this dataframe to an interactive table.\"\n",
              "            style=\"display:none;\">\n",
              "\n",
              "  <svg xmlns=\"http://www.w3.org/2000/svg\" height=\"24px\" viewBox=\"0 -960 960 960\">\n",
              "    <path d=\"M120-120v-720h720v720H120Zm60-500h600v-160H180v160Zm220 220h160v-160H400v160Zm0 220h160v-160H400v160ZM180-400h160v-160H180v160Zm440 0h160v-160H620v160ZM180-180h160v-160H180v160Zm440 0h160v-160H620v160Z\"/>\n",
              "  </svg>\n",
              "    </button>\n",
              "\n",
              "  <style>\n",
              "    .colab-df-container {\n",
              "      display:flex;\n",
              "      gap: 12px;\n",
              "    }\n",
              "\n",
              "    .colab-df-convert {\n",
              "      background-color: #E8F0FE;\n",
              "      border: none;\n",
              "      border-radius: 50%;\n",
              "      cursor: pointer;\n",
              "      display: none;\n",
              "      fill: #1967D2;\n",
              "      height: 32px;\n",
              "      padding: 0 0 0 0;\n",
              "      width: 32px;\n",
              "    }\n",
              "\n",
              "    .colab-df-convert:hover {\n",
              "      background-color: #E2EBFA;\n",
              "      box-shadow: 0px 1px 2px rgba(60, 64, 67, 0.3), 0px 1px 3px 1px rgba(60, 64, 67, 0.15);\n",
              "      fill: #174EA6;\n",
              "    }\n",
              "\n",
              "    .colab-df-buttons div {\n",
              "      margin-bottom: 4px;\n",
              "    }\n",
              "\n",
              "    [theme=dark] .colab-df-convert {\n",
              "      background-color: #3B4455;\n",
              "      fill: #D2E3FC;\n",
              "    }\n",
              "\n",
              "    [theme=dark] .colab-df-convert:hover {\n",
              "      background-color: #434B5C;\n",
              "      box-shadow: 0px 1px 3px 1px rgba(0, 0, 0, 0.15);\n",
              "      filter: drop-shadow(0px 1px 2px rgba(0, 0, 0, 0.3));\n",
              "      fill: #FFFFFF;\n",
              "    }\n",
              "  </style>\n",
              "\n",
              "    <script>\n",
              "      const buttonEl =\n",
              "        document.querySelector('#df-55ffc7ce-f83a-4d37-ae85-d8988678c2e0 button.colab-df-convert');\n",
              "      buttonEl.style.display =\n",
              "        google.colab.kernel.accessAllowed ? 'block' : 'none';\n",
              "\n",
              "      async function convertToInteractive(key) {\n",
              "        const element = document.querySelector('#df-55ffc7ce-f83a-4d37-ae85-d8988678c2e0');\n",
              "        const dataTable =\n",
              "          await google.colab.kernel.invokeFunction('convertToInteractive',\n",
              "                                                    [key], {});\n",
              "        if (!dataTable) return;\n",
              "\n",
              "        const docLinkHtml = 'Like what you see? Visit the ' +\n",
              "          '<a target=\"_blank\" href=https://colab.research.google.com/notebooks/data_table.ipynb>data table notebook</a>'\n",
              "          + ' to learn more about interactive tables.';\n",
              "        element.innerHTML = '';\n",
              "        dataTable['output_type'] = 'display_data';\n",
              "        await google.colab.output.renderOutput(dataTable, element);\n",
              "        const docLink = document.createElement('div');\n",
              "        docLink.innerHTML = docLinkHtml;\n",
              "        element.appendChild(docLink);\n",
              "      }\n",
              "    </script>\n",
              "  </div>\n",
              "\n",
              "\n",
              "    <div id=\"df-11aa56ee-dd65-4bdd-ac00-ec5f274aa5c9\">\n",
              "      <button class=\"colab-df-quickchart\" onclick=\"quickchart('df-11aa56ee-dd65-4bdd-ac00-ec5f274aa5c9')\"\n",
              "                title=\"Suggest charts\"\n",
              "                style=\"display:none;\">\n",
              "\n",
              "<svg xmlns=\"http://www.w3.org/2000/svg\" height=\"24px\"viewBox=\"0 0 24 24\"\n",
              "     width=\"24px\">\n",
              "    <g>\n",
              "        <path d=\"M19 3H5c-1.1 0-2 .9-2 2v14c0 1.1.9 2 2 2h14c1.1 0 2-.9 2-2V5c0-1.1-.9-2-2-2zM9 17H7v-7h2v7zm4 0h-2V7h2v10zm4 0h-2v-4h2v4z\"/>\n",
              "    </g>\n",
              "</svg>\n",
              "      </button>\n",
              "\n",
              "<style>\n",
              "  .colab-df-quickchart {\n",
              "      --bg-color: #E8F0FE;\n",
              "      --fill-color: #1967D2;\n",
              "      --hover-bg-color: #E2EBFA;\n",
              "      --hover-fill-color: #174EA6;\n",
              "      --disabled-fill-color: #AAA;\n",
              "      --disabled-bg-color: #DDD;\n",
              "  }\n",
              "\n",
              "  [theme=dark] .colab-df-quickchart {\n",
              "      --bg-color: #3B4455;\n",
              "      --fill-color: #D2E3FC;\n",
              "      --hover-bg-color: #434B5C;\n",
              "      --hover-fill-color: #FFFFFF;\n",
              "      --disabled-bg-color: #3B4455;\n",
              "      --disabled-fill-color: #666;\n",
              "  }\n",
              "\n",
              "  .colab-df-quickchart {\n",
              "    background-color: var(--bg-color);\n",
              "    border: none;\n",
              "    border-radius: 50%;\n",
              "    cursor: pointer;\n",
              "    display: none;\n",
              "    fill: var(--fill-color);\n",
              "    height: 32px;\n",
              "    padding: 0;\n",
              "    width: 32px;\n",
              "  }\n",
              "\n",
              "  .colab-df-quickchart:hover {\n",
              "    background-color: var(--hover-bg-color);\n",
              "    box-shadow: 0 1px 2px rgba(60, 64, 67, 0.3), 0 1px 3px 1px rgba(60, 64, 67, 0.15);\n",
              "    fill: var(--button-hover-fill-color);\n",
              "  }\n",
              "\n",
              "  .colab-df-quickchart-complete:disabled,\n",
              "  .colab-df-quickchart-complete:disabled:hover {\n",
              "    background-color: var(--disabled-bg-color);\n",
              "    fill: var(--disabled-fill-color);\n",
              "    box-shadow: none;\n",
              "  }\n",
              "\n",
              "  .colab-df-spinner {\n",
              "    border: 2px solid var(--fill-color);\n",
              "    border-color: transparent;\n",
              "    border-bottom-color: var(--fill-color);\n",
              "    animation:\n",
              "      spin 1s steps(1) infinite;\n",
              "  }\n",
              "\n",
              "  @keyframes spin {\n",
              "    0% {\n",
              "      border-color: transparent;\n",
              "      border-bottom-color: var(--fill-color);\n",
              "      border-left-color: var(--fill-color);\n",
              "    }\n",
              "    20% {\n",
              "      border-color: transparent;\n",
              "      border-left-color: var(--fill-color);\n",
              "      border-top-color: var(--fill-color);\n",
              "    }\n",
              "    30% {\n",
              "      border-color: transparent;\n",
              "      border-left-color: var(--fill-color);\n",
              "      border-top-color: var(--fill-color);\n",
              "      border-right-color: var(--fill-color);\n",
              "    }\n",
              "    40% {\n",
              "      border-color: transparent;\n",
              "      border-right-color: var(--fill-color);\n",
              "      border-top-color: var(--fill-color);\n",
              "    }\n",
              "    60% {\n",
              "      border-color: transparent;\n",
              "      border-right-color: var(--fill-color);\n",
              "    }\n",
              "    80% {\n",
              "      border-color: transparent;\n",
              "      border-right-color: var(--fill-color);\n",
              "      border-bottom-color: var(--fill-color);\n",
              "    }\n",
              "    90% {\n",
              "      border-color: transparent;\n",
              "      border-bottom-color: var(--fill-color);\n",
              "    }\n",
              "  }\n",
              "</style>\n",
              "\n",
              "      <script>\n",
              "        async function quickchart(key) {\n",
              "          const quickchartButtonEl =\n",
              "            document.querySelector('#' + key + ' button');\n",
              "          quickchartButtonEl.disabled = true;  // To prevent multiple clicks.\n",
              "          quickchartButtonEl.classList.add('colab-df-spinner');\n",
              "          try {\n",
              "            const charts = await google.colab.kernel.invokeFunction(\n",
              "                'suggestCharts', [key], {});\n",
              "          } catch (error) {\n",
              "            console.error('Error during call to suggestCharts:', error);\n",
              "          }\n",
              "          quickchartButtonEl.classList.remove('colab-df-spinner');\n",
              "          quickchartButtonEl.classList.add('colab-df-quickchart-complete');\n",
              "        }\n",
              "        (() => {\n",
              "          let quickchartButtonEl =\n",
              "            document.querySelector('#df-11aa56ee-dd65-4bdd-ac00-ec5f274aa5c9 button');\n",
              "          quickchartButtonEl.style.display =\n",
              "            google.colab.kernel.accessAllowed ? 'block' : 'none';\n",
              "        })();\n",
              "      </script>\n",
              "    </div>\n",
              "\n",
              "    </div>\n",
              "  </div>\n"
            ],
            "application/vnd.google.colaboratory.intrinsic+json": {
              "type": "dataframe"
            }
          },
          "metadata": {},
          "execution_count": 6
        }
      ],
      "source": [
        "X.describe()"
      ]
    },
    {
      "cell_type": "code",
      "execution_count": 7,
      "metadata": {
        "editable": true,
        "tags": [],
        "id": "c_3TiLKvBxzl",
        "outputId": "ce8a866c-fa90-4101-96a3-b28b9fea76a7",
        "colab": {
          "base_uri": "https://localhost:8080/"
        }
      },
      "outputs": [
        {
          "output_type": "execute_result",
          "data": {
            "text/plain": [
              "['net profit / total assets',\n",
              " 'total liabilities / total assets',\n",
              " 'working capital / total assets',\n",
              " 'current assets / short-term liabilities',\n",
              " '[(cash + short-term securities + receivables - short-term liabilities) / (operating expenses - depreciation)] * 365',\n",
              " 'retained earnings / total assets',\n",
              " 'EBIT / total assets',\n",
              " 'book value of equity / total liabilities',\n",
              " 'sales / total assets',\n",
              " 'equity / total assets',\n",
              " '(gross profit + extraordinary items + financial expenses) / total assets',\n",
              " 'gross profit / short-term liabilities',\n",
              " '(gross profit + depreciation) / sales',\n",
              " '(gross profit + interest) / total assets',\n",
              " '(total liabilities * 365) / (gross profit + depreciation)',\n",
              " '(gross profit + depreciation) / total liabilities',\n",
              " 'total assets / total liabilities',\n",
              " 'gross profit / total assets',\n",
              " 'gross profit / sales',\n",
              " '(inventory * 365) / sales',\n",
              " 'sales (n) / sales (n-1)',\n",
              " 'profit on operating activities / total assets',\n",
              " 'net profit / sales',\n",
              " 'gross profit (in 3 years) / total assets',\n",
              " '(equity - share capital) / total assets',\n",
              " '(net profit + depreciation) / total liabilities',\n",
              " 'profit on operating activities / financial expenses',\n",
              " 'working capital / fixed assets',\n",
              " 'logarithm of total assets',\n",
              " '(total liabilities - cash) / sales',\n",
              " '(gross profit + interest) / sales',\n",
              " '(current liabilities * 365) / cost of products sold',\n",
              " 'operating expenses / short-term liabilities',\n",
              " 'operating expenses / total liabilities',\n",
              " 'profit on sales / total assets',\n",
              " 'total sales / total assets',\n",
              " 'constant capital / total assets',\n",
              " 'profit on sales / sales',\n",
              " '(current assets - inventory - receivables) / short-term liabilities',\n",
              " 'total liabilities / ((profit on operating activities + depreciation) * (12/365))',\n",
              " 'profit on operating activities / sales',\n",
              " 'rotation receivables + inventory turnover in days',\n",
              " '(receivables * 365) / sales',\n",
              " 'net profit / inventory',\n",
              " '(current assets - inventory) / short-term liabilities',\n",
              " '(inventory * 365) / cost of products sold',\n",
              " 'EBITDA (profit on operating activities - depreciation) / total assets',\n",
              " 'EBITDA (profit on operating activities - depreciation) / sales',\n",
              " 'current assets / total liabilities',\n",
              " 'short-term liabilities / total assets',\n",
              " '(short-term liabilities * 365) / cost of products sold)',\n",
              " 'equity / fixed assets',\n",
              " 'constant capital / fixed assets',\n",
              " 'working capital',\n",
              " '(sales - cost of products sold) / sales',\n",
              " '(current assets - inventory - short-term liabilities) / (sales - gross profit - depreciation)',\n",
              " 'total costs / total sales',\n",
              " 'long-term liabilities / equity',\n",
              " 'sales / inventory',\n",
              " 'sales / receivables',\n",
              " '(short-term liabilities * 365) / sales',\n",
              " 'sales / short-term liabilities',\n",
              " 'sales / fixed assets']"
            ]
          },
          "metadata": {},
          "execution_count": 7
        }
      ],
      "source": [
        "feature_names"
      ]
    },
    {
      "cell_type": "markdown",
      "metadata": {
        "editable": true,
        "pycharm": {
          "name": "#%% md\n"
        },
        "tags": [],
        "id": "BukgrSNUBxzl"
      },
      "source": [
        "DataFrame zawiera 64 atrybuty numeryczne o zróżnicowanych rozkładach wartości oraz kolumnę `\"class\"` typu `bytes` z klasami 0 i 1. Wiemy, że mamy do czynienia z klasyfikacją binarną - klasa 0 to brak bankructwa, klasa 1 to bankructwo w ciągu najbliższych 3 lat. Przyjrzyjmy się dokładniej naszym danym."
      ]
    },
    {
      "cell_type": "markdown",
      "metadata": {
        "editable": true,
        "tags": [
          "ex"
        ],
        "id": "p8fnwEwPBxzl"
      },
      "source": [
        "### Zadanie 1 (0.5 punktu)"
      ]
    },
    {
      "cell_type": "markdown",
      "metadata": {
        "editable": true,
        "tags": [
          "ex"
        ],
        "id": "juJVnKDuBxzl"
      },
      "source": [
        "1. Wyodrębnij klasy jako osobną zmienną typu `pd.Series`, usuwając je z macierzy `X`. Przekonwertuj je na liczby całkowite.\n",
        "2. Narysuj wykres słupkowy częstotliwości obu klas w całym zbiorze. Upewnij się, że na osi X są numery lub nazwy klas, a oś Y ma wartości w procentach.\n",
        "\n",
        "**Uwaga:** sugerowane jest użycie `if` w podpunkcie 1, żeby można było tę komórkę bezpiecznie odpalić kilka razy."
      ]
    },
    {
      "cell_type": "code",
      "execution_count": 8,
      "metadata": {
        "editable": true,
        "pycharm": {
          "name": "#%%\n"
        },
        "tags": [
          "ex"
        ],
        "id": "jbs8dltvBxzl",
        "outputId": "b2cff4b3-cfea-4abb-c2dd-f7af2f0ea862",
        "colab": {
          "base_uri": "https://localhost:8080/",
          "height": 467
        }
      },
      "outputs": [
        {
          "output_type": "display_data",
          "data": {
            "text/plain": [
              "<Figure size 640x480 with 1 Axes>"
            ],
            "image/png": "[encoded data removed]"
          },
          "metadata": {}
        }
      ],
      "source": [
        "# your_code\n",
        "if \"class\" in X.columns:\n",
        "  y = X.pop(\"class\")\n",
        "\n",
        "y = y.infer_objects().astype(int)\n",
        "\n",
        "class_freq = y.value_counts(normalize=True) * 100\n",
        "ax = class_freq.sort_index().plot.bar()\n",
        "ax.set_xlabel(\"Klasa\")\n",
        "ax.set_ylabel(\"Procent wystąpień [%]\")\n",
        "ax.set_title(\"Rozkład klas w zbiorze danych\")\n",
        "ax.bar_label(ax.containers[0])\n",
        "plt.show()"
      ]
    },
    {
      "cell_type": "code",
      "execution_count": 9,
      "metadata": {
        "editable": true,
        "tags": [
          "ex"
        ],
        "id": "7ImbZI3yBxzl",
        "outputId": "91d071e6-b32f-4637-e0c4-b82ed5f71353",
        "colab": {
          "base_uri": "https://localhost:8080/"
        }
      },
      "outputs": [
        {
          "output_type": "stream",
          "name": "stdout",
          "text": [
            "Solution is correct!\n"
          ]
        }
      ],
      "source": [
        "assert \"class\" not in X.columns\n",
        "\n",
        "print(\"Solution is correct!\")"
      ]
    },
    {
      "cell_type": "markdown",
      "metadata": {
        "editable": true,
        "pycharm": {
          "name": "#%% md\n"
        },
        "tags": [],
        "id": "JqLiHtW-Bxzl"
      },
      "source": [
        "Jak widać, klasa pozytywna jest w znacznej mniejszości, stanowi poniżej 5% zbioru. Taki problem nazywamy **klasyfikacją niezbalansowaną (imbalanced classification)**. Mamy tu **klasę dominującą (majority class)** oraz **klasę mniejszościową (minority class)**. Pechowo prawie zawsze interesuje nas ta druga, bo klasa większościowa nie niesie najczęściej żadnych interesujących informacji. Przykładowo, 99% badanych jest zdrowych, a 1% ma niewykryty nowotwór - z oczywistych przyczyn chcemy wykrywać właśnie sytuację rzadką (problem diagnozy jako klasyfikacji jest zasadniczo zawsze niezbalansowany). W dalszej części laboratorium poznamy szereg konsekwencji tego zjawiska i metody na radzenie sobie z nim.\n",
        "\n",
        "Mamy sporo cech w naszym zbiorze, wszystkie są numeryczne. Ciekawe, czy mają wartości brakujące, a jeśli tak, to ile? Policzymy to z pomocą biblioteki Pandas i metody `.isna()`. Domyślnie operuje ona na kolumnach, jak większość metod w w tej bibliotece. Sumę wartości per kolumna zwróci nam metoda `.sum()`. Jeżeli podzielimy to przez liczbę wierszy `len(X)`, to otrzymamy ułamek wartości brakujących w każdej kolumnie.\n",
        "\n",
        "Biblioteka Pandas potrafi też stworzyć wykres, z pomocą funkcji np. `.plot.hist()` czy `.plot.bar()`. Przyjmują one opcje formatowania wykresu z których korzysta biblioteka `matplotlib`."
      ]
    },
    {
      "cell_type": "code",
      "execution_count": 10,
      "metadata": {
        "editable": true,
        "pycharm": {
          "name": "#%%\n"
        },
        "tags": [],
        "id": "p3yuy8qQBxzl",
        "outputId": "74a27daf-cae0-480a-e844-5c7955fdc100",
        "colab": {
          "base_uri": "https://localhost:8080/",
          "height": 515
        }
      },
      "outputs": [
        {
          "output_type": "execute_result",
          "data": {
            "text/plain": [
              "<Axes: title={'center': 'Fraction of missing values per column'}>"
            ]
          },
          "metadata": {},
          "execution_count": 10
        },
        {
          "output_type": "display_data",
          "data": {
            "text/plain": [
              "<Figure size 1500x500 with 1 Axes>"
            ],
            "image/png": "[encoded data removed]"
          },
          "metadata": {}
        }
      ],
      "source": [
        "na_perc = X.isna().sum() / len(X)\n",
        "na_perc.plot.bar(title=\"Fraction of missing values per column\", figsize=(15, 5))"
      ]
    },
    {
      "cell_type": "markdown",
      "metadata": {
        "editable": true,
        "pycharm": {
          "name": "#%% md\n"
        },
        "tags": [
          "ex"
        ],
        "id": "DCYdIPAJBxzl"
      },
      "source": [
        "Jak widać, cecha 37 ma bardzo dużo wartości brakujących, podczas gdy pozostałe cechy mają raczej niewielką ich liczbę. W takiej sytuacji najlepiej usunąć tę cechę, a pozostałe wartości brakujące **uzupełnić** (co realizowaliśmy już poprzednio). Pamiętaj, że imputacji dokonuje się dopiero po podziale na zbiór treningowy i testowy! W przeciwnym wypadku wykorzystywalibyśmy dane ze zbioru testowego, co sztucznie zawyżyłoby wyniki. Jest to błąd metodologiczny - **wyciek danych (data leakage)**.\n",
        "\n",
        "Podział na zbiór treningowy i testowy to pierwszy moment, kiedy niezbalansowanie danych nam przeszkadza. Jeżeli zrobimy to czysto losowo, to jest spora szansa, że w zbiorze testowym będzie tylko klasa negatywna - w końcu jest jej aż >95%. Dlatego wykorzystuje się **próbkowanie ze stratyfikacją (stratified sampling)**, dzięki któremu proporcje klas w zbiorze przed podziałem oraz obu zbiorach po podziale są takie same."
      ]
    },
    {
      "cell_type": "markdown",
      "metadata": {
        "editable": true,
        "tags": [
          "ex"
        ],
        "id": "1BPvqvI0Bxzl"
      },
      "source": [
        "### Zadanie 2 (0.75 punktu)"
      ]
    },
    {
      "cell_type": "markdown",
      "metadata": {
        "editable": true,
        "tags": [
          "ex"
        ],
        "id": "pDKiHNX1Bxzm"
      },
      "source": [
        "1. Usuń kolumnę `\"Attr37\"` ze zbioru danych.\n",
        "2. Dokonaj podziału zbioru na treningowy i testowy w proporcjach 80%-20%, z przemieszaniem (`shuffle`), ze stratyfikacją, wykorzystując funkcję `train_test_split` ze Scikit-learn'a.\n",
        "3. Uzupełnij wartości brakujące średnią wartością cechy z pomocą klasy `SimpleImputer`.\n",
        "\n",
        "**Uwaga:**\n",
        "- jak wcześniej, sugerowane jest użycie `if` w podpunkcie 1,\n",
        "- pamiętaj o uwzględnieniu stałego ziarna `random_state=0`, aby wyniki były **reprodukowalne (reproducible)**,\n",
        "- `stratify` oczekuje wektora klas,\n",
        "- wartości do imputacji trzeba wyestymować na zbiorze treningowym (`.fit()`), a potem zastosować te nauczone wartości na obu podzbiorach (treningowym i testowym)."
      ]
    },
    {
      "cell_type": "code",
      "execution_count": 11,
      "metadata": {
        "editable": true,
        "pycharm": {
          "name": "#%%\n"
        },
        "tags": [
          "ex"
        ],
        "id": "ug0rOLmgBxzm"
      },
      "outputs": [],
      "source": [
        "# your_code\n",
        "from sklearn.model_selection import train_test_split\n",
        "from sklearn.impute import SimpleImputer\n",
        "\n",
        "if 'Attr37' in X.columns:\n",
        "  X = X.drop(columns='Attr37')\n",
        "\n",
        "\n",
        "X_train, X_test, y_train, y_test = train_test_split(X, y, test_size=0.2, shuffle=True, stratify=y, random_state=0)\n",
        "\n",
        "imputer = SimpleImputer(strategy='mean')\n",
        "imputer.fit(X_train)\n",
        "\n",
        "X_train = pd.DataFrame(imputer.transform(X_train), columns=X_train.columns, index=X_train.index)\n",
        "X_test  = pd.DataFrame(imputer.transform(X_test), columns=X_test.columns, index=X_test.index)\n"
      ]
    },
    {
      "cell_type": "code",
      "execution_count": 12,
      "metadata": {
        "editable": true,
        "tags": [
          "ex"
        ],
        "id": "c0HpM1NpBxzm",
        "outputId": "55b5cab1-b716-42d9-afce-7c359eb2d33b",
        "colab": {
          "base_uri": "https://localhost:8080/"
        }
      },
      "outputs": [
        {
          "output_type": "stream",
          "name": "stdout",
          "text": [
            "Solution is correct!\n"
          ]
        }
      ],
      "source": [
        "import numpy as np\n",
        "\n",
        "assert \"Attr37\" not in X.columns\n",
        "assert not np.any(np.isnan(X_train))\n",
        "assert not np.any(np.isnan(X_test))\n",
        "\n",
        "print(\"Solution is correct!\")"
      ]
    },
    {
      "cell_type": "markdown",
      "metadata": {
        "editable": true,
        "pycharm": {
          "name": "#%% md\n"
        },
        "tags": [],
        "id": "Nq-Byt4RBxzm"
      },
      "source": [
        "## Prosta klasyfikacja"
      ]
    },
    {
      "cell_type": "markdown",
      "metadata": {
        "editable": true,
        "pycharm": {
          "name": "#%% md\n"
        },
        "tags": [],
        "id": "q2mb2ZwzBxzm"
      },
      "source": [
        "Zanim przejdzie się do modeli bardziej złożonych, trzeba najpierw wypróbować coś prostego, żeby mieć punkt odniesienia. Tworzy się dlatego **modele bazowe (baselines)**.\n",
        "\n",
        "W naszym przypadku będzie to **drzewo decyzyjne (decision tree)**. Jest to drzewo binarne z decyzjami if-else, prowadzącymi do klasyfikacji danego przykładu w liściu. Każdy podział w drzewie to pytanie postaci \"Czy wartość cechy X jest większa lub równa Y?\". Trening takiego drzewa to prosty algorytm zachłanny, bardzo przypomina budowę zwykłego drzewa binarnego. Ma on następujące kroki dla każdego węzła tego drzewa:\n",
        "1. Sprawdź po kolei wszystkie możliwe punkty podziału, czyli każdą (unikalną) wartość każdej cechy, po kolei.\n",
        "2. Dla każdego przypadku podziel zbiór na 2 części: niespełniający warunku (lewy potomek) i spełniający warunek (prawy potomek).\n",
        "3. Oblicz jakość podziału według wybranej funkcji jakości. Im lepiej warunek rozdziela klasy od siebie (imbardziej zunifikowane są węzły-dzieci), tym wyższa jakość podziału. Innymi słowy, chcemy, żeby do jednego dziecka trafiła jedna klasa, a do drugiego druga.\n",
        "4. Wybierz podział o najwyższej jakości.\n",
        "\n",
        "Taki algorytm wykonuje się rekurencyjnie, aż otrzymamy węzeł czysty (pure leaf), czyli taki, w którym są przykłady z tylko jednej klasy. Typowo wykorzystywaną funkcją jakości (kryterium podziału) jest entropia Shannona - im niższa entropia, tym bardziej jednolite są klasy w węźle (czyli wybieramy podział o najniższej entropii).\n",
        "\n",
        "Powyższe wytłumaczenie algorytmu jest oczywiście nieformalne i dość skrótowe. Doskonałe tłumaczenie, z interaktywnymi wizualizacjami, dostępne jest [tutaj](https://mlu-explain.github.io/decision-tree/). W formie filmów - [tutaj](https://www.youtube.com/watch?v=ZVR2Way4nwQ) oraz [tutaj](https://www.youtube.com/watch?v=_L39rN6gz7Y). Dla drzew do regresji - [ten film](https://www.youtube.com/watch?v=g9c66TUylZ4).\n",
        "\n",
        "<img src = https://miro.medium.com/max/1838/1*WyTsLwcAXivFCgNtF0OPqA.png width = \"642\" height = \"451\" >\n",
        "\n",
        "Warto zauważyć, że taka konstrukcja prowadzi zawsze do overfittingu. Otrzymanie liści czystych oznacza, że mamy 100% dokładności na zbiorze treningowym, czyli perfekcyjnie przeuczony klasyfikator. W związku z tym nasze predykcje mają bardzo niski bias, ale bardzo dużą wariancję. Pomimo tego drzewa potrafią dać bardzo przyzwoite wyniki, a w celu ich poprawy można je regularyzować, aby mieć mniej \"rozrośnięte\" drzewo. [Film dla zainteresowanych](https://www.youtube.com/watch?v=D0efHEJsfHo).\n"
      ]
    },
    {
      "cell_type": "markdown",
      "metadata": {
        "editable": true,
        "tags": [],
        "id": "m2u0_jyrBxzm"
      },
      "source": [
        "Mając wytrenowany klasyfikator, trzeba oczywiście sprawdzić, jak dobrze on sobie radzi. Tu natrafiamy na kolejny problem z klasyfikacją niezbalansowaną - zwykła celność (accuracy) na pewno nie zadziała! Typowo wykorzystuje się AUC, nazywane też AUROC (Area Under Receiver Operating Characteristic), bo metryka ta uwzględnia niezbalansowanie klas.\n",
        "\n",
        "Bardzo dobre i bardziej szczegółowe wytłumaczenie, z interktywnymi wizualizacjami, można znaleć [tutaj](https://mlu-explain.github.io/roc-auc/). Dla preferujących filmy - [tutaj](https://www.youtube.com/watch?v=4jRBRDbJemM).\n",
        "\n",
        "Co ważne, z definicji AUROC, trzeba w niej użyć **prawdopodobieństw klasy pozytywnej** (klasy 1). W Scikit-learn'ie zwraca je metoda `.predict_proba()`, która w kolejnych kolumnach zwraca prawdopodobieństwa poszczególnych klas."
      ]
    },
    {
      "cell_type": "markdown",
      "metadata": {
        "editable": true,
        "tags": [
          "ex"
        ],
        "id": "YQZBz1onBxzm"
      },
      "source": [
        "### Zadanie 3 (0.75 punktu)"
      ]
    },
    {
      "cell_type": "markdown",
      "metadata": {
        "editable": true,
        "tags": [
          "ex"
        ],
        "id": "HE7JtuBkBxzm"
      },
      "source": [
        "1. Wytrenuj klasyfikator drzewa decyzyjnego (klasa `DecisionTreeClassifier`). Użyj entropii jako kryterium podziału.\n",
        "2. Oblicz i wypisz AUROC na zbiorze testowym dla drzewa decyzyjnego (funkcja `roc_auc_score`).\n",
        "3. Skomentuj wynik - czy twoim zdaniem osiągnięty AUROC to dużo czy mało, biorąc pod uwagę możliwy zakres wartości tej metryki?\n",
        "\n",
        "**Uwaga:**\n",
        "- pamiętaj o użyciu stałego ziarna `random_state=0`,\n",
        "- jeżeli drzewo nie wyświetli się samo, użyj `plt.show()` z Matplotliba,\n",
        "- pamiętaj o tym, żeby przekazać do metryki AUROC **prawdopodobieństwa klasy pozytywnej**, a nie binarne predykcje!"
      ]
    },
    {
      "cell_type": "code",
      "execution_count": 13,
      "metadata": {
        "editable": true,
        "pycharm": {
          "name": "#%%\n"
        },
        "tags": [
          "ex"
        ],
        "id": "z3CR9vsCBxzm",
        "outputId": "6aaab9a8-366a-46eb-8cdf-ad66861118b5",
        "colab": {
          "base_uri": "https://localhost:8080/"
        }
      },
      "outputs": [
        {
          "output_type": "stream",
          "name": "stdout",
          "text": [
            "auroc = 0.7370\n"
          ]
        }
      ],
      "source": [
        "# your_code\n",
        "from sklearn.tree import DecisionTreeClassifier\n",
        "from sklearn.metrics import roc_auc_score\n",
        "\n",
        "clf = DecisionTreeClassifier(random_state=0)\n",
        "\n",
        "clf.fit(X_train, y_train)\n",
        "\n",
        "y_proba = clf.predict_proba(X_test)[:, 1]\n",
        "auroc = roc_auc_score(y_test, y_proba)\n",
        "\n",
        "print(f\"{auroc = :.4f}\")"
      ]
    },
    {
      "cell_type": "code",
      "execution_count": 14,
      "metadata": {
        "editable": true,
        "tags": [
          "ex"
        ],
        "id": "pzHpPuxzBxzn",
        "outputId": "66d40dab-ce0c-4f78-9e71-2d5ec37a5c7d",
        "colab": {
          "base_uri": "https://localhost:8080/"
        }
      },
      "outputs": [
        {
          "output_type": "stream",
          "name": "stdout",
          "text": [
            "Solution is correct!\n"
          ]
        }
      ],
      "source": [
        "assert auroc > 0.7\n",
        "\n",
        "print(\"Solution is correct!\")"
      ]
    },
    {
      "cell_type": "markdown",
      "metadata": {
        "editable": true,
        "pycharm": {
          "name": "#%% md\n"
        },
        "tags": [
          "ex"
        ],
        "id": "avC4BJljBxzn"
      },
      "source": [
        "0.737 to dużo jak na najbardziej bazowy klasyfikator (zakres wartości to realistycznie 0.5 do 1.0)"
      ]
    },
    {
      "cell_type": "markdown",
      "metadata": {
        "editable": true,
        "pycharm": {
          "name": "#%% md\n"
        },
        "tags": [],
        "id": "JZ3f2e2RBxzn"
      },
      "source": [
        "## Uczenie zespołowe, bagging, lasy losowe"
      ]
    },
    {
      "cell_type": "markdown",
      "metadata": {
        "editable": true,
        "pycharm": {
          "name": "#%% md\n"
        },
        "tags": [],
        "id": "9KOquQoBBxzn"
      },
      "source": [
        "Bardzo często wiele klasyfikatorów działających razem daje lepsze wyniki niż pojedynczy klasyfikator. Takie podejście nazywa się **uczeniem zespołowym (ensemble learning)**. Istnieje wiele różnych podejść do tworzenia takich klasyfikatorów złożonych (ensemble classifiers).\n",
        "\n",
        "Podstawową metodą jest **bagging**:\n",
        "1. Wylosuj N (np. 100, 500, ...) próbek boostrapowych (boostrap sample) ze zbioru treningowego. Próbka boostrapowa to po prostu losowanie ze zwracaniem, gdzie dla wejściowego zbioru z M wierszami losujemy M próbek (czyli tyle ile było w początkowym zbiorze), spośród N wylosowanych próbek. Będą tam powtórzenia, średnio nawet 1/3, ale się tym nie przejmujemy.\n",
        "2. Wytrenuj klasyfikator bazowy (base classifier) na każdej z próbek boostrapowych.\n",
        "3. Stwórz klasyfikator złożony poprzez uśrednienie predykcji każdego z klasyfikatorów bazowych.\n",
        "\n",
        "<img src = https://upload.wikimedia.org/wikipedia/commons/thumb/c/c8/Ensemble_Bagging.svg/440px-Ensemble_Bagging.svg.png width = \"440\" height = \"248\" >\n",
        "\n",
        "Typowo klasyfikatory bazowe są bardzo proste, żeby można było szybko wytrenować ich dużą liczbę. Prawie zawsze używa się do tego drzew decyzyjnych. Dla klasyfikacji uśrednienie wyników polega na głosowaniu - dla nowej próbki każdy klasyfikator bazowy ją klasyfikuje, sumuje się głosy na każdą klasę i zwraca najbardziej popularną decyzję.\n",
        "\n",
        "Taki sposób uczenia zmniejsza wariancję klasyfikatora. Intuicyjnie, skoro coś uśredniamy, to siłą rzeczy będzie mniej rozrzucone, bo dużo ciężej będzie osiągnąć jakąś skrajność. Redukuje to też overfitting.\n",
        "\n",
        "**Lasy losowe (Random Forests)** to ulepszenie baggingu. Zaobserwowano, że pomimo losowania próbek boostrapowych, w baggingu poszczególne drzewa są do siebie bardzo podobne (są skorelowane), używają podobnych cech ze zbioru. My natomiast chcemy zróżnicowania, żeby mieć niski bias - redukcją wariancji zajmuje się uśrednianie. Dlatego używa się metody losowej podprzestrzeni (random subspace method) - przy każdym podziale drzewa losuje się tylko pewien podzbiór cech, których możemy użyć do tego podziału. Typowo jest to pierwiastek kwadratowy z ogólnej liczby cech.\n",
        "\n",
        "Zarówno bagging, jak i lasy losowe mają dodatkowo bardzo przyjemną własność - są mało czułe na hiperparametry, szczególnie na liczbę drzew. W praktyce wystarczy ustawić 500 czy 1000 drzew i klasyfikator będzie dobrze działać. Dalsze dostrajanie hiperparametrów może jeszcze trochę poprawić wyniki, ale nie tak bardzo, jak przy innych klasyfikatorach. Jest to zatem doskonały wybór domyślny, kiedy nie wiemy, jakiego klasyfikatora użyć.\n",
        "\n",
        "Dodatkowo jest to problem **embarassingly parallel** - drzewa można trenować w 100% równolegle, dzięki czemu jest to dodatkowo wydajna obliczeniowo metoda.\n",
        "\n",
        "Głębsze wytłumaczenie, z interaktywnymi wizualizacjami, można znaleźć [tutaj](https://mlu-explain.github.io/random-forest/). Dobrze tłumaczy je też [ta seria filmów](https://www.youtube.com/watch?v=J4Wdy0Wc_xQ&t=480s)."
      ]
    },
    {
      "cell_type": "markdown",
      "metadata": {
        "editable": true,
        "tags": [
          "ex"
        ],
        "id": "wa6EjYZaBxzn"
      },
      "source": [
        "### Zadanie 4 (0.5 punktu)"
      ]
    },
    {
      "cell_type": "markdown",
      "metadata": {
        "editable": true,
        "tags": [
          "ex"
        ],
        "id": "Ht11C4ZwBxzn"
      },
      "source": [
        "1. Wytrenuj klasyfikator Random Forest (klasa `RandomForestClassifier`). Użyj 500 drzew i entropii jako kryterium podziału.\n",
        "2. Sprawdź AUROC na zbiorze testowym.\n",
        "3. Skomentuj wynik w odniesieniu do drzewa decyzyjnego.\n",
        "\n",
        "**Uwaga:** pamiętaj o ustawieniu `random_state=0`. Dla przyspieszenia ustaw `n_jobs=-1` (użyje tylu procesów, ile masz dostępnych rdzeni procesora). Pamiętaj też o przekazaniu prawdopodobieństw do metryki AUROC."
      ]
    },
    {
      "cell_type": "code",
      "execution_count": 15,
      "metadata": {
        "editable": true,
        "pycharm": {
          "name": "#%%\n"
        },
        "tags": [
          "ex"
        ],
        "id": "8Rq3T6X-Bxzn",
        "outputId": "2b01e9ab-32bf-4a3c-e9ea-4a9bb8a44e27",
        "colab": {
          "base_uri": "https://localhost:8080/"
        }
      },
      "outputs": [
        {
          "output_type": "stream",
          "name": "stdout",
          "text": [
            "auroc = 0.8987\n"
          ]
        }
      ],
      "source": [
        "# your_code\n",
        "from sklearn.ensemble import RandomForestClassifier\n",
        "\n",
        "clf = RandomForestClassifier(n_estimators=500, criterion='entropy', random_state=0, n_jobs=-1)\n",
        "\n",
        "clf.fit(X_train, y_train)\n",
        "\n",
        "y_proba = clf.predict_proba(X_test)[:, 1]\n",
        "auroc = roc_auc_score(y_test, y_proba)\n",
        "\n",
        "print(f\"{auroc = :.4f}\")"
      ]
    },
    {
      "cell_type": "code",
      "execution_count": 16,
      "metadata": {
        "editable": true,
        "tags": [
          "ex"
        ],
        "id": "Cos265EJBxzr",
        "outputId": "925c85d2-f1f0-44d1-a3c2-7d6ce946c312",
        "colab": {
          "base_uri": "https://localhost:8080/"
        }
      },
      "outputs": [
        {
          "output_type": "stream",
          "name": "stdout",
          "text": [
            "Solution is correct!\n"
          ]
        }
      ],
      "source": [
        "assert auroc > 0.85\n",
        "\n",
        "print(\"Solution is correct!\")"
      ]
    },
    {
      "cell_type": "markdown",
      "metadata": {
        "editable": true,
        "pycharm": {
          "name": "#%% md\n"
        },
        "tags": [
          "ex"
        ],
        "id": "7hUxHzGqBxzr"
      },
      "source": [
        "AUROC zauważalnie zwiększyła się, jednak wzrosło też obciążenie obliczeniowe"
      ]
    },
    {
      "cell_type": "markdown",
      "metadata": {
        "editable": true,
        "pycharm": {
          "name": "#%% md\n"
        },
        "tags": [],
        "id": "adTjRx6RBxzr"
      },
      "source": [
        "Jak zobaczymy poniżej, wynik ten możemy jednak jeszcze ulepszyć!"
      ]
    },
    {
      "cell_type": "markdown",
      "metadata": {
        "editable": true,
        "pycharm": {
          "name": "#%% md\n"
        },
        "tags": [],
        "id": "8vjoaN8_Bxzr"
      },
      "source": [
        "## Oversampling, SMOTE"
      ]
    },
    {
      "cell_type": "markdown",
      "metadata": {
        "editable": true,
        "pycharm": {
          "name": "#%% md\n"
        },
        "tags": [],
        "id": "QfsukkA7Bxzr"
      },
      "source": [
        "W przypadku zbiorów niezbalansowanych można dokonać **balansowania (balancing)** zbioru. Są tutaj 2 metody:\n",
        "- **undersampling**: usunięcie przykładów z klasy dominującej\n",
        "- **oversampling**: wygenerowanie dodatkowych przykładów z klasy mniejszościowej\n",
        "\n",
        "Undersampling działa dobrze, kiedy niezbalansowanie jest niewielkie, a zbiór jest duży (możemy sobie pozwolić na usunięcie jego części). Oversampling typowo daje lepsze wyniki, istnieją dla niego bardzo efektywne algorytmy. W przypadku bardzo dużego niezbalansowania można zrobić oba.\n",
        "\n",
        "Typowym algorytmem oversamplingu jest **SMOTE (Synthetic Minority Oversampling TEchnique)**. Działa on następująco:\n",
        "1. Idź po kolei po przykładach z klasy mniejszościowej.\n",
        "2. Znajdź `k` najbliższych przykładów dla próbki, typowo `k=5`.\n",
        "3. Wylosuj tylu sąsiadów, ile trzeba do oversamplingu, np. jeżeli chcemy zwiększyć klasę mniejszościową 3 razy (o 200%), to wylosuj 2 z 5 sąsiadów.\n",
        "4. Dla każdego z wylosowanych sąsiadów wylosuj punkt na linii prostej między próbką a tym sąsiadem. Dodaj ten punkt jako nową próbkę do zbioru.\n",
        "\n",
        "<img src = https://miro.medium.com/max/734/1*yRumRhn89acByodBz0H7oA.png >\n",
        "\n",
        "Taka technika generuje przykłady bardzo podobne do prawdziwych, więc nie zaburza zbioru, a jednocześnie pomaga klasyfikatorom, bo \"zagęszcza\" przestrzeń, w której znajduje się klasa pozytywna.\n",
        "\n",
        "Algorytm SMOTE, jego warianty i inne algorytmy dla problemów niezbalansowanych implementuje biblioteka Imbalanced-learn."
      ]
    },
    {
      "cell_type": "markdown",
      "metadata": {
        "editable": true,
        "execution": {
          "iopub.execute_input": "2024-10-07T13:36:43.138444Z",
          "iopub.status.busy": "2024-10-07T13:36:43.137348Z",
          "iopub.status.idle": "2024-10-07T13:36:43.147546Z",
          "shell.execute_reply": "2024-10-07T13:36:43.144776Z",
          "shell.execute_reply.started": "2024-10-07T13:36:43.138374Z"
        },
        "tags": [
          "ex"
        ],
        "id": "d4V40vTQBxzs"
      },
      "source": [
        "### Zadanie 5 (1 punkt)"
      ]
    },
    {
      "cell_type": "markdown",
      "metadata": {
        "editable": true,
        "tags": [
          "ex"
        ],
        "id": "JtpuOg7dBxzs"
      },
      "source": [
        "Użyj SMOTE do zbalansowania zbioru treningowego (nie używa się go na zbiorze testowym!). Implementuje to klasa `SMOTE`. Wytrenuj drzewo decyzyjne oraz las losowy na zbalansowanym zbiorze, użyj tych samych argumentów co wcześniej. Pamiętaj o użyciu wszędzie stałego ziarna `random_state=0` oraz przekazaniu prawdopodobieństw do AUROC. Skomentuj wynik.\n",
        "\n",
        "Wartość ROC drzewa decyzyjnego przypisz do zmiennej `tree_roc`, a lasu do `forest_roc`."
      ]
    },
    {
      "cell_type": "code",
      "execution_count": 17,
      "metadata": {
        "editable": true,
        "pycharm": {
          "name": "#%%\n"
        },
        "tags": [
          "ex"
        ],
        "id": "1jVxLXDQBxzs",
        "outputId": "d6afbfe2-6843-4036-a4c3-9d046eb1e556",
        "colab": {
          "base_uri": "https://localhost:8080/"
        }
      },
      "outputs": [
        {
          "output_type": "stream",
          "name": "stdout",
          "text": [
            "tree_roc = 0.7239\n",
            "forest_roc = 0.9047\n"
          ]
        }
      ],
      "source": [
        "# your_code\n",
        "from imblearn.over_sampling import SMOTE\n",
        "\n",
        "smote = SMOTE(random_state=0)\n",
        "X_train_smoted, y_train_smoted = smote.fit_resample(X_train, y_train)\n",
        "\n",
        "clf = DecisionTreeClassifier(random_state=0)\n",
        "clf.fit(X_train_smoted, y_train_smoted)\n",
        "y_proba = clf.predict_proba(X_test)[:, 1]\n",
        "tree_roc = roc_auc_score(y_test, y_proba)\n",
        "print(f\"{tree_roc = :.4f}\")\n",
        "\n",
        "clf = RandomForestClassifier(n_estimators=500, criterion='entropy', random_state=0, n_jobs=-1)\n",
        "clf.fit(X_train_smoted, y_train_smoted)\n",
        "y_proba = clf.predict_proba(X_test)[:, 1]\n",
        "forest_roc = roc_auc_score(y_test, y_proba)\n",
        "print(f\"{forest_roc = :.4f}\")"
      ]
    },
    {
      "cell_type": "code",
      "execution_count": 18,
      "metadata": {
        "editable": true,
        "tags": [
          "ex"
        ],
        "id": "kHNE8WiOBxzs",
        "outputId": "476d6168-6516-4c41-a6fe-9a346dd1d0ca",
        "colab": {
          "base_uri": "https://localhost:8080/"
        }
      },
      "outputs": [
        {
          "output_type": "stream",
          "name": "stdout",
          "text": [
            "Solution is correct!\n"
          ]
        }
      ],
      "source": [
        "assert 0.6 < tree_roc < 0.8\n",
        "assert 0.8 < forest_roc < 0.95\n",
        "\n",
        "print(\"Solution is correct!\")"
      ]
    },
    {
      "cell_type": "markdown",
      "metadata": {
        "editable": true,
        "pycharm": {
          "name": "#%% md\n"
        },
        "tags": [
          "ex"
        ],
        "id": "rTCLiitxBxzs"
      },
      "source": [
        "W przypadku drzewa AUROC się nieznacznie zmniejszył\n",
        "(o mniej niż 0.014), a dla lasu nieznacznie zwiększył (mniej niż 0.007)\n",
        "\n",
        "użycie SMOTE nieznacznie wpłynęło na wyniki\n",
        "\n"
      ]
    },
    {
      "cell_type": "markdown",
      "metadata": {
        "editable": true,
        "pycharm": {
          "name": "#%% md\n"
        },
        "tags": [],
        "id": "FDUGjYH2Bxzs"
      },
      "source": [
        "W dalszej części laboratorium używaj zbioru po zastosowaniu SMOTE do treningu klasyfikatorów."
      ]
    },
    {
      "cell_type": "markdown",
      "metadata": {
        "editable": true,
        "pycharm": {
          "name": "#%% md\n"
        },
        "tags": [],
        "id": "5KhsefepBxzs"
      },
      "source": [
        "## Dostrajanie (tuning) hiperparametrów"
      ]
    },
    {
      "cell_type": "markdown",
      "metadata": {
        "editable": true,
        "pycharm": {
          "name": "#%% md\n"
        },
        "tags": [],
        "id": "vEuDhwmXBxzs"
      },
      "source": [
        "Lasy losowe są stosunkowo mało czułe na dobór hiperparametrów - i dobrze, bo mają ich dość dużo. Można zawsze jednak spróbować to zrobić, a w szczególności najważniejszy jest parametr `max_features`, oznaczający, ile cech losować przy każdym podziale drzewa. Typowo sprawdza się wartości z zakresu `[0.1, 0.5]`.\n",
        "\n",
        "W kwestii szybkości, kiedy dostrajamy hiperparametry, to mniej oczywiste jest, jakiego `n_jobs` użyć. Z jednej strony klasyfikator może być trenowany na wielu procesach, a z drugiej można trenować wiele klasyfikatorów na różnych zestawach hiperparametrów równolegle. Jeżeli nasz klasyfikator bardzo dobrze się uwspółbieżnia (jak Random Forest), to można dać mu nawet wszystkie rdzenie, a za to wypróbowywać kolejne zestawy hiperparametrów sekwencyjnie. Warto ustawić parametr `verbose` na 2 lub więcej, żeby dostać logi podczas długiego treningu i mierzyć czas wykonania. W praktyce ustawia się to metodą prób i błędów."
      ]
    },
    {
      "cell_type": "markdown",
      "metadata": {
        "editable": true,
        "tags": [
          "ex"
        ],
        "id": "3D1Lo-GNBxzs"
      },
      "source": [
        "### Zadanie 6 (1 punkt)"
      ]
    },
    {
      "cell_type": "markdown",
      "metadata": {
        "editable": true,
        "tags": [
          "ex"
        ],
        "id": "cjMqMYu6Bxzs"
      },
      "source": [
        "1. Dobierz wartość hiperparametru `max_features`:\n",
        "   - użyj grid search z 5 foldami,\n",
        "   - wypróbuj wartości `[0.1, 0.2, 0.3, 0.4, 0.5]`,\n",
        "   - wybierz model o najwyższym AUROC (argument `scoring`).\n",
        "2. Sprawdź, jaka była optymalna wartość `max_features`. Jest to atrybut wytrenowanego `GridSearchCV`.\n",
        "3. Skomentuj wynik. Czy warto było poświęcić czas i zasoby na tę procedurę?\n",
        "4. Wynik przypisz do zmiennej `auroc`.\n",
        "\n",
        "**Uwaga:**\n",
        "- pamiętaj, żeby jako estymatora przekazanego do grid search'a użyć instancji Random Forest, która ma już ustawione `random_state=0` i `n_jobs`"
      ]
    },
    {
      "cell_type": "code",
      "execution_count": 19,
      "metadata": {
        "editable": true,
        "pycharm": {
          "is_executing": true,
          "name": "#%%\n"
        },
        "tags": [
          "ex"
        ],
        "id": "818VE7HQBxzt",
        "outputId": "254f4839-c5c8-46e6-f22a-72980afa4e28",
        "colab": {
          "base_uri": "https://localhost:8080/"
        }
      },
      "outputs": [
        {
          "output_type": "stream",
          "name": "stdout",
          "text": [
            "Fitting 5 folds for each of 5 candidates, totalling 25 fits\n",
            "[CV] END ...................................max_features=0.1; total time=  53.9s\n",
            "[CV] END ...................................max_features=0.1; total time=  52.8s\n",
            "[CV] END ...................................max_features=0.1; total time=  52.8s\n",
            "[CV] END ...................................max_features=0.1; total time=  53.3s\n",
            "[CV] END ...................................max_features=0.1; total time=  52.7s\n",
            "[CV] END ...................................max_features=0.2; total time= 1.6min\n",
            "[CV] END ...................................max_features=0.2; total time= 1.6min\n",
            "[CV] END ...................................max_features=0.2; total time= 1.6min\n",
            "[CV] END ...................................max_features=0.2; total time= 1.7min\n",
            "[CV] END ...................................max_features=0.2; total time= 1.7min\n",
            "[CV] END ...................................max_features=0.3; total time= 2.3min\n",
            "[CV] END ...................................max_features=0.3; total time= 2.2min\n",
            "[CV] END ...................................max_features=0.3; total time= 2.2min\n",
            "[CV] END ...................................max_features=0.3; total time= 2.3min\n",
            "[CV] END ...................................max_features=0.3; total time= 2.3min\n",
            "[CV] END ...................................max_features=0.4; total time= 3.0min\n",
            "[CV] END ...................................max_features=0.4; total time= 3.0min\n",
            "[CV] END ...................................max_features=0.4; total time= 3.0min\n",
            "[CV] END ...................................max_features=0.4; total time= 3.0min\n",
            "[CV] END ...................................max_features=0.4; total time= 3.0min\n",
            "[CV] END ...................................max_features=0.5; total time= 3.7min\n",
            "[CV] END ...................................max_features=0.5; total time= 3.6min\n",
            "[CV] END ...................................max_features=0.5; total time= 3.6min\n",
            "[CV] END ...................................max_features=0.5; total time= 3.7min\n",
            "[CV] END ...................................max_features=0.5; total time= 3.7min\n",
            "\n",
            "auroc = 0.9984\n",
            "best_params forest = {'max_features': 0.2}\n"
          ]
        }
      ],
      "source": [
        "# your_code\n",
        "from sklearn.model_selection import GridSearchCV\n",
        "\n",
        "clf = RandomForestClassifier(n_estimators=500, criterion='entropy', random_state=0, n_jobs=-1)\n",
        "\n",
        "param_grid = {\n",
        "    'max_features': [0.1, 0.2, 0.3, 0.4, 0.5]\n",
        "}\n",
        "\n",
        "grid_search = GridSearchCV(clf, param_grid, cv=5, scoring='roc_auc', verbose=2)\n",
        "grid_search.fit(X_train_smoted, y_train_smoted)\n",
        "\n",
        "\n",
        "auroc = grid_search.best_score_\n",
        "best_params_forest = grid_search.best_params_\n",
        "print()\n",
        "print(f\"{auroc = :.4f}\")\n",
        "print(f\"best_params forest = {best_params_forest}\")"
      ]
    },
    {
      "cell_type": "code",
      "execution_count": 20,
      "metadata": {
        "editable": true,
        "tags": [
          "ex"
        ],
        "id": "-DymTSwTBxzt",
        "outputId": "b395f78e-7503-407f-e993-396f44d65585",
        "colab": {
          "base_uri": "https://localhost:8080/",
          "height": 185
        }
      },
      "outputs": [
        {
          "output_type": "error",
          "ename": "AssertionError",
          "evalue": "",
          "traceback": [
            "\u001b[0;31m---------------------------------------------------------------------------\u001b[0m",
            "\u001b[0;31mAssertionError\u001b[0m                            Traceback (most recent call last)",
            "\u001b[0;32m/tmp/ipython-input-3239404572.py\u001b[0m in \u001b[0;36m<cell line: 0>\u001b[0;34m()\u001b[0m\n\u001b[0;32m----> 1\u001b[0;31m \u001b[0;32massert\u001b[0m \u001b[0;36m0.9\u001b[0m \u001b[0;34m<=\u001b[0m \u001b[0mauroc\u001b[0m \u001b[0;34m<=\u001b[0m \u001b[0;36m0.95\u001b[0m\u001b[0;34m\u001b[0m\u001b[0;34m\u001b[0m\u001b[0m\n\u001b[0m\u001b[1;32m      2\u001b[0m \u001b[0;34m\u001b[0m\u001b[0m\n\u001b[1;32m      3\u001b[0m \u001b[0mprint\u001b[0m\u001b[0;34m(\u001b[0m\u001b[0;34m\"Solution is correct!\"\u001b[0m\u001b[0;34m)\u001b[0m\u001b[0;34m\u001b[0m\u001b[0;34m\u001b[0m\u001b[0m\n",
            "\u001b[0;31mAssertionError\u001b[0m: "
          ]
        }
      ],
      "source": [
        "assert 0.9 <= auroc <= 0.95\n",
        "\n",
        "print(\"Solution is correct!\")"
      ]
    },
    {
      "cell_type": "markdown",
      "metadata": {
        "editable": true,
        "pycharm": {
          "name": "#%% md\n"
        },
        "tags": [
          "ex"
        ],
        "id": "-00A-POeBxzt"
      },
      "source": [
        "wartość AUROC wychodzi znacznie większa niż oczekiwana przez skrypt laboratorium"
      ]
    },
    {
      "cell_type": "markdown",
      "metadata": {
        "editable": true,
        "pycharm": {
          "name": "#%% md\n"
        },
        "tags": [],
        "id": "ty0UtRYbBxzt"
      },
      "source": [
        "W praktycznych zastosowaniach osoba trenująca model wedle własnego uznana, doświadczenia, dostępnego czasu i zasobów wybiera, czy dostrajać hiperparametry i w jak szerokim zakresie. Dla Random Forest na szczęście często może nie być znaczącej potrzeby i za to go lubimy :)"
      ]
    },
    {
      "cell_type": "markdown",
      "metadata": {
        "editable": true,
        "pycharm": {
          "name": "#%% md\n"
        },
        "tags": [],
        "id": "TE37TXlJBxzt"
      },
      "source": [
        "**Random Forest - podsumowanie**\n",
        "\n",
        "1. Model oparty o uczenie zespołowe.\n",
        "2. Kluczowe elementy:\n",
        "   - bagging: uczenie wielu klasyfikatorów na próbkach boostrapowych,\n",
        "   - metoda losowej podprzestrzeni: losujemy podzbiór cech do każdego podziału drzewa,\n",
        "   - uśredniamy głosy klasyfikatorów.\n",
        "3. Dość odporny na overfitting, zmniejsza wariancję błędu dzięki uśrednianiu.\n",
        "4. Mało czuły na hiperparametry.\n",
        "5. Przeciętnie daje bardzo dobre wyniki, doskonały wybór domyślny przy wybieraniu algorytmu klasyfikacji."
      ]
    },
    {
      "cell_type": "markdown",
      "metadata": {
        "editable": true,
        "pycharm": {
          "name": "#%% md\n"
        },
        "tags": [],
        "id": "Ubsu9ro9Bxzt"
      },
      "source": [
        "## Boosting"
      ]
    },
    {
      "cell_type": "markdown",
      "metadata": {
        "editable": true,
        "pycharm": {
          "name": "#%% md\n"
        },
        "tags": [],
        "id": "_rC0IoKWBxzt"
      },
      "source": [
        "Drugą bardzo ważną grupą algorytmów ensemblingu jest **boosting**, też oparty o drzewa decyzyjne. O ile Random Forest trenował wszystkie klasyfikatory bazowe równolegle i je uśredniał, o tyle boosting robi to sekwencyjnie. Drzewa te uczą się na całym zbiorze, nie na próbkach boostrapowych. Idea jest następująca: trenujemy drzewo decyzyjne, radzi sobie przeciętnie i popełnia błędy na częsci przykładów treningowych. Dokładamy kolejne, ale znające błędy swojego poprzednika, dzięki czemu może to uwzględnić i je poprawić. W związku z tym \"boostuje\" się dzięki wiedzy od poprzednika. Dokładamy kolejne drzewa zgodnie z tą samą zasadą.\n",
        "\n",
        "Jak uczyć się na błędach poprzednika? Jest to pewna **funkcja kosztu** (błędu), którą chcemy zminimalizować. Zakłada się jakąś jej konkretną postać, np. squared error dla regresji, albo logistic loss dla klasyfikacji. Później wykorzystuje się spadek wzdłuż gradientu (gradient descent), aby nauczyć się, w jakim kierunku powinny optymalizować kolejne drzewa, żeby zminimalizować błędy poprzednika. Jest to konkretnie **gradient boosting**, absolutnie najpopularniejsza forma boostingu, i jeden z najpopularniejszych i osiągających najlepsze wyniki algorytmów ML.\n",
        "\n",
        "Tyle co do intuicji. Ogólny algorytm gradient boostingu jest trochę bardziej skomplikowany. Bardzo dobrze i krok po kroku tłumaczy go [ta seria filmów na YT](https://www.youtube.com/watch?v=3CC4N4z3GJc). Szczególnie ważne implementacje gradient boostingu to **XGBoost (Extreme Gradient Boosting)** oraz **LightGBM (Light Gradient Boosting Machine)**. XGBoost był prawdziwym przełomem w ML, uzyskując doskonałe wyniki i bardzo dobrze się skalując - był wykorzystany w CERNie do wykrywania cząstki Higgsa w zbiorze z pomiarów LHC mającym 10 milionów próbek. Jego implementacja jest dość złożona, ale dobrze tłumaczy ją [inna seria filmików na YT](https://www.youtube.com/watch?v=OtD8wVaFm6E).\n",
        "\n",
        "![](https://github.com/Kacper-Jakubiak/sztuczna-inteligencja/blob/master/lab2/xgboost.png?raw=1)\n",
        "\n",
        "Obecnie najczęściej wykorzystuje się LightGBM. Został stworzony przez Microsoft na podstawie doświadczeń z XGBoostem. Został jeszcze bardziej ulepszony i przyspieszony, ale różnice są głównie implementacyjne. Różnice dobrze tłumaczy [ta prezentacja z konferencji PyData](https://www.youtube.com/watch?v=5CWwwtEM2TA) oraz [prezentacja Microsoftu](https://www.youtube.com/watch?v=5nKSMXBFhes). Dla zainteresowanych - [praktyczne aspekty LightGBM](https://www.kaggle.com/code/prashant111/lightgbm-classifier-in-python/notebook)."
      ]
    },
    {
      "cell_type": "markdown",
      "metadata": {
        "editable": true,
        "tags": [
          "ex"
        ],
        "id": "bK8HpTcBBxzt"
      },
      "source": [
        "### Zadanie 7 (0.5 punktu)"
      ]
    },
    {
      "cell_type": "markdown",
      "metadata": {
        "editable": true,
        "tags": [
          "ex"
        ],
        "id": "eNZSxxArBxzt"
      },
      "source": [
        "1. Wytrenuj klasyfikator LightGBM (klasa `LGBMClassifier`). Przekaż `importance_type=\"gain\"` - przyda nam się to za chwilę.\n",
        "2. Sprawdź AUROC na zbiorze testowym.\n",
        "3. Skomentuj wynik w odniesieniu do wcześniejszych algorytmów.\n",
        "\n",
        "Pamiętaj o `random_state`, `n_jobs` i prawdopodobieństwach dla AUROC."
      ]
    },
    {
      "cell_type": "code",
      "execution_count": 21,
      "metadata": {
        "editable": true,
        "pycharm": {
          "is_executing": true,
          "name": "#%%\n"
        },
        "tags": [
          "ex"
        ],
        "id": "uux4YZQzBxzu",
        "outputId": "f137de6f-5b5c-4e8c-b4c8-6f828c49e170",
        "colab": {
          "base_uri": "https://localhost:8080/"
        }
      },
      "outputs": [
        {
          "output_type": "stream",
          "name": "stdout",
          "text": [
            "[LightGBM] [Info] Number of positive: 8006, number of negative: 8006\n",
            "[LightGBM] [Info] Auto-choosing col-wise multi-threading, the overhead of testing was 0.012183 seconds.\n",
            "You can set `force_col_wise=true` to remove the overhead.\n",
            "[LightGBM] [Info] Total Bins 16065\n",
            "[LightGBM] [Info] Number of data points in the train set: 16012, number of used features: 63\n",
            "[LightGBM] [Info] [binary:BoostFromScore]: pavg=0.500000 -> initscore=0.000000\n",
            "\n",
            "auroc = 0.9434\n"
          ]
        }
      ],
      "source": [
        "# your_code\n",
        "from lightgbm import LGBMClassifier\n",
        "\n",
        "lgbm_default = LGBMClassifier(importance_type=\"gain\", random_state=0, n_jobs=-1)\n",
        "lgbm_default.fit(X_train_smoted, y_train_smoted)\n",
        "\n",
        "y_proba = lgbm_default.predict_proba(X_test)[:, 1]\n",
        "auroc = roc_auc_score(y_test, y_proba)\n",
        "\n",
        "print()\n",
        "print(f\"{auroc = :.4f}\")"
      ]
    },
    {
      "cell_type": "code",
      "execution_count": 22,
      "metadata": {
        "editable": true,
        "tags": [
          "ex"
        ],
        "id": "jFQp0nuhBxzu",
        "outputId": "6ff9b392-dc17-4d64-e901-e95290c950cc",
        "colab": {
          "base_uri": "https://localhost:8080/"
        }
      },
      "outputs": [
        {
          "output_type": "stream",
          "name": "stdout",
          "text": [
            "Solution is correct!\n"
          ]
        }
      ],
      "source": [
        "assert 0.9 <= auroc <= 0.97\n",
        "\n",
        "print(\"Solution is correct!\")"
      ]
    },
    {
      "cell_type": "markdown",
      "metadata": {
        "editable": true,
        "pycharm": {
          "name": "#%% md\n"
        },
        "tags": [
          "ex"
        ],
        "id": "F1H93EG2Bxzu"
      },
      "source": [
        "wartość AUROC jest wyraźnie większa, co jest zgodne z teorią. Przez wykorzystanie większej liczby informacji boosting osiąga lepszy wynik"
      ]
    },
    {
      "cell_type": "markdown",
      "metadata": {
        "editable": true,
        "pycharm": {
          "name": "#%% md\n"
        },
        "tags": [],
        "id": "ZdBoHnCPBxzu"
      },
      "source": [
        "Boosting dzięki uczeniu na poprzednich drzewach redukuje nie tylko wariancję, ale też bias w błędzie, dzięki czemu może w wielu przypadkach osiągnąć lepsze rezultaty od lasu losowego. Do tego dzięki znakomitej implementacji LightGBM jest szybszy.\n",
        "\n",
        "Boosting jest jednak o wiele bardziej czuły na hiperparametry niż Random Forest. W szczególności bardzo łatwo go przeuczyć, a większość hiperparametrów, których jest dużo, wiąże się z regularyzacją modelu. To, że teraz poszło nam lepiej z domyślnymi, jest rzadkim przypadkiem.\n",
        "\n",
        "W związku z tym, że przestrzeń hiperparametrów jest duża, przeszukanie wszystkich kombinacji nie wchodzi w grę. Zamiast tego można wylosować zadaną liczbę zestawów hiperparametrów i tylko je sprawdzić - chociaż im więcej, tym lepsze wyniki powinniśmy dostać. Służy do tego `RandomizedSearchCV`. Co więcej, klasa ta potrafi próbkować rozkłady prawdopodobieństwa, a nie tylko sztywne listy wartości, co jest bardzo przydatne przy parametrach ciągłych.\n",
        "\n",
        "Hiperparametry LightGBMa są dobrze opisane w oficjalnej dokumentacji: [wersja krótsza](https://lightgbm.readthedocs.io/en/latest/pythonapi/lightgbm.LGBMClassifier.html#lightgbm.LGBMClassifier) i [wersja dłuższa](https://lightgbm.readthedocs.io/en/latest/Parameters.html). Jest ich dużo, więc nie będziemy ich tutaj omawiać. Jeżeli chodzi o ich dostrajanie w praktyce, to przydatny jest [oficjalny przewodnik](https://lightgbm.readthedocs.io/en/latest/Parameters-Tuning.html) oraz dyskusje na Kaggle."
      ]
    },
    {
      "cell_type": "markdown",
      "metadata": {
        "editable": true,
        "tags": [
          "ex"
        ],
        "id": "WpAklNb8Bxzu"
      },
      "source": [
        "### Zadanie 8 (1.5 punktu)"
      ]
    },
    {
      "cell_type": "markdown",
      "metadata": {
        "editable": true,
        "tags": [
          "ex"
        ],
        "id": "pFgwxD3GBxzu"
      },
      "source": [
        "1. Zaimplementuj random search dla LightGBMa (klasa `RandomizedSearchCV`):\n",
        "   - użyj tylu prób, na ile pozwalają twoje zasoby obliczeniowe, ale przynajmniej 30,\n",
        "   - przeszukaj przestrzeń hiperparametrów:\n",
        "    ```\n",
        "    param_grid = {\n",
        "        \"n_estimators\": [100, 250, 500],\n",
        "        \"learning_rate\": [0.05, 0.1, 0.2],\n",
        "        \"num_leaves\": [31, 48, 64],\n",
        "        \"colsample_bytree\": [0.8, 0.9, 1.0],\n",
        "        \"subsample\": [0.8, 0.9, 1.0],\n",
        "    }\n",
        "    ```\n",
        "2. Wypisz znalezione optymalne hiperparametry.\n",
        "3. Wypisz raporty z klasyfikacji (funkcja `classification_report`), dla modelu LightGBM bez i z dostrajaniem hiperparametrów.\n",
        "4. Skomentuj różnicę precyzji (precision) i czułości (recall) między modelami bez i z dostrajaniem hiperparametrów. Czy jest to pożądane zjawisko w tym przypadku?\n",
        "5. Wartość ROC przypisz do zmiennej `auroc`.\n",
        "\n",
        "**Uwaga:**\n",
        "- koniecznie ustaw `verbose=-1` przy tworzeniu `LGBMClassifier`, żeby uniknąć kolosalnej ilości logów, która potrafi też wyłączyć Jupytera\n",
        "- pamiętaj o ustawieniu `importance_type`, `random_state=0` i `n_jobs`, oraz ewentualnie `verbose` w `RandomizedSearchCV` dla śledzenia przebiegu\n",
        "- istnieje możliwość, że ustawienie `n_jobs` dla grid searcha będzie szybsze niż dla samego LightGBM; odpowiada to tuningowi wielu klasyfikatorów równolegle, przy wolniejszym treningu pojedynczych klasyfikatorów\n",
        "- nie ustawiaj wszędzie `n_jobs=-1`, bo wtedy stworzysz więcej procesów niż rdzeni i spowodujesz thread contention"
      ]
    },
    {
      "cell_type": "code",
      "execution_count": 23,
      "metadata": {
        "editable": true,
        "pycharm": {
          "is_executing": true,
          "name": "#%%\n"
        },
        "tags": [
          "ex"
        ],
        "id": "lmWhLi-pBxzu",
        "outputId": "cc8b80b5-7f23-4a6c-c839-25fe5cff3202",
        "colab": {
          "base_uri": "https://localhost:8080/"
        }
      },
      "outputs": [
        {
          "output_type": "stream",
          "name": "stdout",
          "text": [
            "Fitting 5 folds for each of 30 candidates, totalling 150 fits\n",
            "[CV] END colsample_bytree=0.8, learning_rate=0.05, n_estimators=500, num_leaves=64, subsample=0.9; total time=  13.7s\n",
            "[CV] END colsample_bytree=0.8, learning_rate=0.05, n_estimators=500, num_leaves=64, subsample=0.9; total time=  10.6s\n",
            "[CV] END colsample_bytree=0.8, learning_rate=0.05, n_estimators=500, num_leaves=64, subsample=0.9; total time=   8.5s\n",
            "[CV] END colsample_bytree=0.8, learning_rate=0.05, n_estimators=500, num_leaves=64, subsample=0.9; total time=  10.6s\n",
            "[CV] END colsample_bytree=0.8, learning_rate=0.05, n_estimators=500, num_leaves=64, subsample=0.9; total time=  10.7s\n",
            "[CV] END colsample_bytree=1.0, learning_rate=0.2, n_estimators=100, num_leaves=31, subsample=0.8; total time=   1.4s\n",
            "[CV] END colsample_bytree=1.0, learning_rate=0.2, n_estimators=100, num_leaves=31, subsample=0.8; total time=   1.4s\n",
            "[CV] END colsample_bytree=1.0, learning_rate=0.2, n_estimators=100, num_leaves=31, subsample=0.8; total time=   1.4s\n",
            "[CV] END colsample_bytree=1.0, learning_rate=0.2, n_estimators=100, num_leaves=31, subsample=0.8; total time=   3.3s\n",
            "[CV] END colsample_bytree=1.0, learning_rate=0.2, n_estimators=100, num_leaves=31, subsample=0.8; total time=   1.5s\n",
            "[CV] END colsample_bytree=0.8, learning_rate=0.2, n_estimators=100, num_leaves=48, subsample=0.8; total time=   1.5s\n",
            "[CV] END colsample_bytree=0.8, learning_rate=0.2, n_estimators=100, num_leaves=48, subsample=0.8; total time=   1.6s\n",
            "[CV] END colsample_bytree=0.8, learning_rate=0.2, n_estimators=100, num_leaves=48, subsample=0.8; total time=   1.5s\n",
            "[CV] END colsample_bytree=0.8, learning_rate=0.2, n_estimators=100, num_leaves=48, subsample=0.8; total time=   1.5s\n",
            "[CV] END colsample_bytree=0.8, learning_rate=0.2, n_estimators=100, num_leaves=48, subsample=0.8; total time=   1.5s\n",
            "[CV] END colsample_bytree=1.0, learning_rate=0.1, n_estimators=500, num_leaves=64, subsample=0.8; total time=   9.7s\n",
            "[CV] END colsample_bytree=1.0, learning_rate=0.1, n_estimators=500, num_leaves=64, subsample=0.8; total time=  10.0s\n",
            "[CV] END colsample_bytree=1.0, learning_rate=0.1, n_estimators=500, num_leaves=64, subsample=0.8; total time=  10.0s\n",
            "[CV] END colsample_bytree=1.0, learning_rate=0.1, n_estimators=500, num_leaves=64, subsample=0.8; total time=   8.2s\n",
            "[CV] END colsample_bytree=1.0, learning_rate=0.1, n_estimators=500, num_leaves=64, subsample=0.8; total time=  10.0s\n",
            "[CV] END colsample_bytree=0.9, learning_rate=0.2, n_estimators=250, num_leaves=48, subsample=1.0; total time=   3.5s\n",
            "[CV] END colsample_bytree=0.9, learning_rate=0.2, n_estimators=250, num_leaves=48, subsample=1.0; total time=   5.5s\n",
            "[CV] END colsample_bytree=0.9, learning_rate=0.2, n_estimators=250, num_leaves=48, subsample=1.0; total time=   3.6s\n",
            "[CV] END colsample_bytree=0.9, learning_rate=0.2, n_estimators=250, num_leaves=48, subsample=1.0; total time=   3.6s\n",
            "[CV] END colsample_bytree=0.9, learning_rate=0.2, n_estimators=250, num_leaves=48, subsample=1.0; total time=   5.6s\n",
            "[CV] END colsample_bytree=0.8, learning_rate=0.2, n_estimators=500, num_leaves=64, subsample=1.0; total time=   4.3s\n",
            "[CV] END colsample_bytree=0.8, learning_rate=0.2, n_estimators=500, num_leaves=64, subsample=1.0; total time=   6.4s\n",
            "[CV] END colsample_bytree=0.8, learning_rate=0.2, n_estimators=500, num_leaves=64, subsample=1.0; total time=   4.5s\n",
            "[CV] END colsample_bytree=0.8, learning_rate=0.2, n_estimators=500, num_leaves=64, subsample=1.0; total time=   4.5s\n",
            "[CV] END colsample_bytree=0.8, learning_rate=0.2, n_estimators=500, num_leaves=64, subsample=1.0; total time=   6.4s\n",
            "[CV] END colsample_bytree=0.9, learning_rate=0.2, n_estimators=100, num_leaves=48, subsample=1.0; total time=   1.7s\n",
            "[CV] END colsample_bytree=0.9, learning_rate=0.2, n_estimators=100, num_leaves=48, subsample=1.0; total time=   1.7s\n",
            "[CV] END colsample_bytree=0.9, learning_rate=0.2, n_estimators=100, num_leaves=48, subsample=1.0; total time=   1.7s\n",
            "[CV] END colsample_bytree=0.9, learning_rate=0.2, n_estimators=100, num_leaves=48, subsample=1.0; total time=   1.7s\n",
            "[CV] END colsample_bytree=0.9, learning_rate=0.2, n_estimators=100, num_leaves=48, subsample=1.0; total time=   3.6s\n",
            "[CV] END colsample_bytree=0.9, learning_rate=0.05, n_estimators=500, num_leaves=64, subsample=0.8; total time=   9.8s\n",
            "[CV] END colsample_bytree=0.9, learning_rate=0.05, n_estimators=500, num_leaves=64, subsample=0.8; total time=  11.5s\n",
            "[CV] END colsample_bytree=0.9, learning_rate=0.05, n_estimators=500, num_leaves=64, subsample=0.8; total time=  11.6s\n",
            "[CV] END colsample_bytree=0.9, learning_rate=0.05, n_estimators=500, num_leaves=64, subsample=0.8; total time=  11.6s\n",
            "[CV] END colsample_bytree=0.9, learning_rate=0.05, n_estimators=500, num_leaves=64, subsample=0.8; total time=  11.5s\n",
            "[CV] END colsample_bytree=0.8, learning_rate=0.05, n_estimators=250, num_leaves=31, subsample=0.8; total time=   2.7s\n",
            "[CV] END colsample_bytree=0.8, learning_rate=0.05, n_estimators=250, num_leaves=31, subsample=0.8; total time=   2.8s\n",
            "[CV] END colsample_bytree=0.8, learning_rate=0.05, n_estimators=250, num_leaves=31, subsample=0.8; total time=   4.4s\n",
            "[CV] END colsample_bytree=0.8, learning_rate=0.05, n_estimators=250, num_leaves=31, subsample=0.8; total time=   2.7s\n",
            "[CV] END colsample_bytree=0.8, learning_rate=0.05, n_estimators=250, num_leaves=31, subsample=0.8; total time=   2.7s\n",
            "[CV] END colsample_bytree=0.8, learning_rate=0.05, n_estimators=250, num_leaves=48, subsample=0.9; total time=   5.5s\n",
            "[CV] END colsample_bytree=0.8, learning_rate=0.05, n_estimators=250, num_leaves=48, subsample=0.9; total time=   3.7s\n",
            "[CV] END colsample_bytree=0.8, learning_rate=0.05, n_estimators=250, num_leaves=48, subsample=0.9; total time=   3.6s\n",
            "[CV] END colsample_bytree=0.8, learning_rate=0.05, n_estimators=250, num_leaves=48, subsample=0.9; total time=   5.3s\n",
            "[CV] END colsample_bytree=0.8, learning_rate=0.05, n_estimators=250, num_leaves=48, subsample=0.9; total time=   3.8s\n",
            "[CV] END colsample_bytree=0.9, learning_rate=0.05, n_estimators=100, num_leaves=64, subsample=0.8; total time=   2.1s\n",
            "[CV] END colsample_bytree=0.9, learning_rate=0.05, n_estimators=100, num_leaves=64, subsample=0.8; total time=   2.0s\n",
            "[CV] END colsample_bytree=0.9, learning_rate=0.05, n_estimators=100, num_leaves=64, subsample=0.8; total time=   2.0s\n",
            "[CV] END colsample_bytree=0.9, learning_rate=0.05, n_estimators=100, num_leaves=64, subsample=0.8; total time=   4.0s\n",
            "[CV] END colsample_bytree=0.9, learning_rate=0.05, n_estimators=100, num_leaves=64, subsample=0.8; total time=   2.0s\n",
            "[CV] END colsample_bytree=0.8, learning_rate=0.2, n_estimators=250, num_leaves=31, subsample=1.0; total time=   2.6s\n",
            "[CV] END colsample_bytree=0.8, learning_rate=0.2, n_estimators=250, num_leaves=31, subsample=1.0; total time=   2.5s\n",
            "[CV] END colsample_bytree=0.8, learning_rate=0.2, n_estimators=250, num_leaves=31, subsample=1.0; total time=   4.0s\n",
            "[CV] END colsample_bytree=0.8, learning_rate=0.2, n_estimators=250, num_leaves=31, subsample=1.0; total time=   2.8s\n",
            "[CV] END colsample_bytree=0.8, learning_rate=0.2, n_estimators=250, num_leaves=31, subsample=1.0; total time=   2.6s\n",
            "[CV] END colsample_bytree=1.0, learning_rate=0.05, n_estimators=250, num_leaves=48, subsample=0.8; total time=   4.4s\n",
            "[CV] END colsample_bytree=1.0, learning_rate=0.05, n_estimators=250, num_leaves=48, subsample=0.8; total time=   6.3s\n",
            "[CV] END colsample_bytree=1.0, learning_rate=0.05, n_estimators=250, num_leaves=48, subsample=0.8; total time=   4.3s\n",
            "[CV] END colsample_bytree=1.0, learning_rate=0.05, n_estimators=250, num_leaves=48, subsample=0.8; total time=   6.2s\n",
            "[CV] END colsample_bytree=1.0, learning_rate=0.05, n_estimators=250, num_leaves=48, subsample=0.8; total time=   4.3s\n",
            "[CV] END colsample_bytree=1.0, learning_rate=0.05, n_estimators=100, num_leaves=64, subsample=0.9; total time=   2.2s\n",
            "[CV] END colsample_bytree=1.0, learning_rate=0.05, n_estimators=100, num_leaves=64, subsample=0.9; total time=   2.2s\n",
            "[CV] END colsample_bytree=1.0, learning_rate=0.05, n_estimators=100, num_leaves=64, subsample=0.9; total time=   4.1s\n",
            "[CV] END colsample_bytree=1.0, learning_rate=0.05, n_estimators=100, num_leaves=64, subsample=0.9; total time=   2.2s\n",
            "[CV] END colsample_bytree=1.0, learning_rate=0.05, n_estimators=100, num_leaves=64, subsample=0.9; total time=   2.2s\n",
            "[CV] END colsample_bytree=0.9, learning_rate=0.05, n_estimators=500, num_leaves=64, subsample=1.0; total time=  11.6s\n",
            "[CV] END colsample_bytree=0.9, learning_rate=0.05, n_estimators=500, num_leaves=64, subsample=1.0; total time=  11.5s\n",
            "[CV] END colsample_bytree=0.9, learning_rate=0.05, n_estimators=500, num_leaves=64, subsample=1.0; total time=  11.4s\n",
            "[CV] END colsample_bytree=0.9, learning_rate=0.05, n_estimators=500, num_leaves=64, subsample=1.0; total time=  11.6s\n",
            "[CV] END colsample_bytree=0.9, learning_rate=0.05, n_estimators=500, num_leaves=64, subsample=1.0; total time=   9.6s\n",
            "[CV] END colsample_bytree=1.0, learning_rate=0.2, n_estimators=500, num_leaves=48, subsample=0.9; total time=   6.8s\n",
            "[CV] END colsample_bytree=1.0, learning_rate=0.2, n_estimators=500, num_leaves=48, subsample=0.9; total time=   5.1s\n",
            "[CV] END colsample_bytree=1.0, learning_rate=0.2, n_estimators=500, num_leaves=48, subsample=0.9; total time=   7.1s\n",
            "[CV] END colsample_bytree=1.0, learning_rate=0.2, n_estimators=500, num_leaves=48, subsample=0.9; total time=   5.2s\n",
            "[CV] END colsample_bytree=1.0, learning_rate=0.2, n_estimators=500, num_leaves=48, subsample=0.9; total time=   7.1s\n",
            "[CV] END colsample_bytree=0.8, learning_rate=0.05, n_estimators=250, num_leaves=31, subsample=1.0; total time=   2.6s\n",
            "[CV] END colsample_bytree=0.8, learning_rate=0.05, n_estimators=250, num_leaves=31, subsample=1.0; total time=   2.6s\n",
            "[CV] END colsample_bytree=0.8, learning_rate=0.05, n_estimators=250, num_leaves=31, subsample=1.0; total time=   4.2s\n",
            "[CV] END colsample_bytree=0.8, learning_rate=0.05, n_estimators=250, num_leaves=31, subsample=1.0; total time=   2.9s\n",
            "[CV] END colsample_bytree=0.8, learning_rate=0.05, n_estimators=250, num_leaves=31, subsample=1.0; total time=   2.6s\n",
            "[CV] END colsample_bytree=1.0, learning_rate=0.05, n_estimators=250, num_leaves=64, subsample=1.0; total time=   5.6s\n",
            "[CV] END colsample_bytree=1.0, learning_rate=0.05, n_estimators=250, num_leaves=64, subsample=1.0; total time=   6.9s\n",
            "[CV] END colsample_bytree=1.0, learning_rate=0.05, n_estimators=250, num_leaves=64, subsample=1.0; total time=   5.2s\n",
            "[CV] END colsample_bytree=1.0, learning_rate=0.05, n_estimators=250, num_leaves=64, subsample=1.0; total time=   7.1s\n",
            "[CV] END colsample_bytree=1.0, learning_rate=0.05, n_estimators=250, num_leaves=64, subsample=1.0; total time=   5.3s\n",
            "[CV] END colsample_bytree=1.0, learning_rate=0.2, n_estimators=500, num_leaves=48, subsample=0.8; total time=   6.8s\n",
            "[CV] END colsample_bytree=1.0, learning_rate=0.2, n_estimators=500, num_leaves=48, subsample=0.8; total time=   5.1s\n",
            "[CV] END colsample_bytree=1.0, learning_rate=0.2, n_estimators=500, num_leaves=48, subsample=0.8; total time=   7.1s\n",
            "[CV] END colsample_bytree=1.0, learning_rate=0.2, n_estimators=500, num_leaves=48, subsample=0.8; total time=   5.2s\n",
            "[CV] END colsample_bytree=1.0, learning_rate=0.2, n_estimators=500, num_leaves=48, subsample=0.8; total time=   7.0s\n",
            "[CV] END colsample_bytree=0.9, learning_rate=0.2, n_estimators=250, num_leaves=31, subsample=0.8; total time=   2.9s\n",
            "[CV] END colsample_bytree=0.9, learning_rate=0.2, n_estimators=250, num_leaves=31, subsample=0.8; total time=   2.8s\n",
            "[CV] END colsample_bytree=0.9, learning_rate=0.2, n_estimators=250, num_leaves=31, subsample=0.8; total time=   4.7s\n",
            "[CV] END colsample_bytree=0.9, learning_rate=0.2, n_estimators=250, num_leaves=31, subsample=0.8; total time=   2.9s\n",
            "[CV] END colsample_bytree=0.9, learning_rate=0.2, n_estimators=250, num_leaves=31, subsample=0.8; total time=   2.8s\n",
            "[CV] END colsample_bytree=0.9, learning_rate=0.05, n_estimators=500, num_leaves=31, subsample=0.8; total time=   7.6s\n",
            "[CV] END colsample_bytree=0.9, learning_rate=0.05, n_estimators=500, num_leaves=31, subsample=0.8; total time=   5.5s\n",
            "[CV] END colsample_bytree=0.9, learning_rate=0.05, n_estimators=500, num_leaves=31, subsample=0.8; total time=   7.4s\n",
            "[CV] END colsample_bytree=0.9, learning_rate=0.05, n_estimators=500, num_leaves=31, subsample=0.8; total time=   5.6s\n",
            "[CV] END colsample_bytree=0.9, learning_rate=0.05, n_estimators=500, num_leaves=31, subsample=0.8; total time=   7.4s\n",
            "[CV] END colsample_bytree=0.8, learning_rate=0.05, n_estimators=100, num_leaves=31, subsample=0.9; total time=   1.2s\n",
            "[CV] END colsample_bytree=0.8, learning_rate=0.05, n_estimators=100, num_leaves=31, subsample=0.9; total time=   1.2s\n",
            "[CV] END colsample_bytree=0.8, learning_rate=0.05, n_estimators=100, num_leaves=31, subsample=0.9; total time=   1.2s\n",
            "[CV] END colsample_bytree=0.8, learning_rate=0.05, n_estimators=100, num_leaves=31, subsample=0.9; total time=   1.2s\n",
            "[CV] END colsample_bytree=0.8, learning_rate=0.05, n_estimators=100, num_leaves=31, subsample=0.9; total time=   1.2s\n",
            "[CV] END colsample_bytree=0.9, learning_rate=0.1, n_estimators=500, num_leaves=64, subsample=0.8; total time=   9.1s\n",
            "[CV] END colsample_bytree=0.9, learning_rate=0.1, n_estimators=500, num_leaves=64, subsample=0.8; total time=   9.4s\n",
            "[CV] END colsample_bytree=0.9, learning_rate=0.1, n_estimators=500, num_leaves=64, subsample=0.8; total time=   7.5s\n",
            "[CV] END colsample_bytree=0.9, learning_rate=0.1, n_estimators=500, num_leaves=64, subsample=0.8; total time=   9.4s\n",
            "[CV] END colsample_bytree=0.9, learning_rate=0.1, n_estimators=500, num_leaves=64, subsample=0.8; total time=   9.3s\n",
            "[CV] END colsample_bytree=0.8, learning_rate=0.05, n_estimators=250, num_leaves=48, subsample=0.8; total time=   3.7s\n",
            "[CV] END colsample_bytree=0.8, learning_rate=0.05, n_estimators=250, num_leaves=48, subsample=0.8; total time=   3.6s\n",
            "[CV] END colsample_bytree=0.8, learning_rate=0.05, n_estimators=250, num_leaves=48, subsample=0.8; total time=   5.5s\n",
            "[CV] END colsample_bytree=0.8, learning_rate=0.05, n_estimators=250, num_leaves=48, subsample=0.8; total time=   3.6s\n",
            "[CV] END colsample_bytree=0.8, learning_rate=0.05, n_estimators=250, num_leaves=48, subsample=0.8; total time=   3.6s\n",
            "[CV] END colsample_bytree=1.0, learning_rate=0.1, n_estimators=500, num_leaves=48, subsample=0.9; total time=   9.5s\n",
            "[CV] END colsample_bytree=1.0, learning_rate=0.1, n_estimators=500, num_leaves=48, subsample=0.9; total time=   9.4s\n",
            "[CV] END colsample_bytree=1.0, learning_rate=0.1, n_estimators=500, num_leaves=48, subsample=0.9; total time=   7.6s\n",
            "[CV] END colsample_bytree=1.0, learning_rate=0.1, n_estimators=500, num_leaves=48, subsample=0.9; total time=   9.5s\n",
            "[CV] END colsample_bytree=1.0, learning_rate=0.1, n_estimators=500, num_leaves=48, subsample=0.9; total time=   9.6s\n",
            "[CV] END colsample_bytree=1.0, learning_rate=0.2, n_estimators=100, num_leaves=64, subsample=0.9; total time=   2.2s\n",
            "[CV] END colsample_bytree=1.0, learning_rate=0.2, n_estimators=100, num_leaves=64, subsample=0.9; total time=   2.2s\n",
            "[CV] END colsample_bytree=1.0, learning_rate=0.2, n_estimators=100, num_leaves=64, subsample=0.9; total time=   2.2s\n",
            "[CV] END colsample_bytree=1.0, learning_rate=0.2, n_estimators=100, num_leaves=64, subsample=0.9; total time=   3.9s\n",
            "[CV] END colsample_bytree=1.0, learning_rate=0.2, n_estimators=100, num_leaves=64, subsample=0.9; total time=   2.5s\n",
            "[CV] END colsample_bytree=0.9, learning_rate=0.1, n_estimators=100, num_leaves=48, subsample=1.0; total time=   1.7s\n",
            "[CV] END colsample_bytree=0.9, learning_rate=0.1, n_estimators=100, num_leaves=48, subsample=1.0; total time=   1.7s\n",
            "[CV] END colsample_bytree=0.9, learning_rate=0.1, n_estimators=100, num_leaves=48, subsample=1.0; total time=   1.7s\n",
            "[CV] END colsample_bytree=0.9, learning_rate=0.1, n_estimators=100, num_leaves=48, subsample=1.0; total time=   3.5s\n",
            "[CV] END colsample_bytree=0.9, learning_rate=0.1, n_estimators=100, num_leaves=48, subsample=1.0; total time=   1.7s\n",
            "[CV] END colsample_bytree=0.8, learning_rate=0.2, n_estimators=100, num_leaves=48, subsample=1.0; total time=   1.5s\n",
            "[CV] END colsample_bytree=0.8, learning_rate=0.2, n_estimators=100, num_leaves=48, subsample=1.0; total time=   1.6s\n",
            "[CV] END colsample_bytree=0.8, learning_rate=0.2, n_estimators=100, num_leaves=48, subsample=1.0; total time=   1.5s\n",
            "[CV] END colsample_bytree=0.8, learning_rate=0.2, n_estimators=100, num_leaves=48, subsample=1.0; total time=   1.6s\n",
            "[CV] END colsample_bytree=0.8, learning_rate=0.2, n_estimators=100, num_leaves=48, subsample=1.0; total time=   1.5s\n",
            "[CV] END colsample_bytree=0.8, learning_rate=0.1, n_estimators=100, num_leaves=48, subsample=0.8; total time=   3.4s\n",
            "[CV] END colsample_bytree=0.8, learning_rate=0.1, n_estimators=100, num_leaves=48, subsample=0.8; total time=   1.5s\n",
            "[CV] END colsample_bytree=0.8, learning_rate=0.1, n_estimators=100, num_leaves=48, subsample=0.8; total time=   1.5s\n",
            "[CV] END colsample_bytree=0.8, learning_rate=0.1, n_estimators=100, num_leaves=48, subsample=0.8; total time=   1.6s\n",
            "[CV] END colsample_bytree=0.8, learning_rate=0.1, n_estimators=100, num_leaves=48, subsample=0.8; total time=   1.5s\n",
            "[CV] END colsample_bytree=0.9, learning_rate=0.1, n_estimators=500, num_leaves=64, subsample=1.0; total time=   9.1s\n",
            "[CV] END colsample_bytree=0.9, learning_rate=0.1, n_estimators=500, num_leaves=64, subsample=1.0; total time=   7.7s\n",
            "[CV] END colsample_bytree=0.9, learning_rate=0.1, n_estimators=500, num_leaves=64, subsample=1.0; total time=   9.1s\n",
            "[CV] END colsample_bytree=0.9, learning_rate=0.1, n_estimators=500, num_leaves=64, subsample=1.0; total time=   9.4s\n",
            "[CV] END colsample_bytree=0.9, learning_rate=0.1, n_estimators=500, num_leaves=64, subsample=1.0; total time=   9.3s\n",
            "\n",
            "random_search.best_params_ = {'subsample': 0.9, 'num_leaves': 48, 'n_estimators': 500, 'learning_rate': 0.1, 'colsample_bytree': 1.0}\n",
            "report_default:\n",
            "              precision    recall  f1-score   support\n",
            "\n",
            "           0       0.98      0.98      0.98      2002\n",
            "           1       0.60      0.60      0.60        99\n",
            "\n",
            "    accuracy                           0.96      2101\n",
            "   macro avg       0.79      0.79      0.79      2101\n",
            "weighted avg       0.96      0.96      0.96      2101\n",
            "\n",
            "report_cv:\n",
            "              precision    recall  f1-score   support\n",
            "\n",
            "           0       0.98      0.99      0.98      2002\n",
            "           1       0.78      0.53      0.63        99\n",
            "\n",
            "    accuracy                           0.97      2101\n",
            "   macro avg       0.88      0.76      0.81      2101\n",
            "weighted avg       0.97      0.97      0.97      2101\n",
            "\n",
            "auroc = 0.9499\n"
          ]
        }
      ],
      "source": [
        "# your_code\n",
        "from sklearn.model_selection import RandomizedSearchCV\n",
        "from sklearn.metrics import classification_report\n",
        "\n",
        "lgbm_cv = LGBMClassifier(importance_type=\"gain\", random_state=0, n_jobs=-1, verbose=-1)\n",
        "\n",
        "param_grid = {\n",
        "    \"n_estimators\": [100, 250, 500],\n",
        "    \"learning_rate\": [0.05, 0.1, 0.2],\n",
        "    \"num_leaves\": [31, 48, 64],\n",
        "    \"colsample_bytree\": [0.8, 0.9, 1.0],\n",
        "    \"subsample\": [0.8, 0.9, 1.0],\n",
        "}\n",
        "\n",
        "random_search = RandomizedSearchCV(lgbm_cv, param_grid, n_iter=30, scoring='roc_auc', verbose=2)\n",
        "random_search.fit(X_train_smoted, y_train_smoted)\n",
        "\n",
        "best_params_lgbm = random_search.best_params_\n",
        "\n",
        "print()\n",
        "print(f\"{random_search.best_params_ = }\")\n",
        "print()\n",
        "\n",
        "y_pred = lgbm_default.predict(X_test)\n",
        "report_default = classification_report(y_test, y_pred)\n",
        "\n",
        "y_pred = random_search.predict(X_test)\n",
        "report_cv = classification_report(y_test, y_pred)\n",
        "\n",
        "print(f\"report_default:\\n{report_default}\")\n",
        "print(f\"report_cv:\\n{report_cv}\")\n",
        "\n",
        "y_proba = random_search.predict_proba(X_test)[:, 1]\n",
        "auroc = roc_auc_score(y_test, y_proba)\n",
        "print(f\"{auroc = :.4f}\")"
      ]
    },
    {
      "cell_type": "code",
      "execution_count": 24,
      "metadata": {
        "editable": true,
        "tags": [
          "ex"
        ],
        "id": "IhGLfiwyBxzu",
        "outputId": "566ac6c7-894e-49ed-f202-f1208d54d3aa",
        "colab": {
          "base_uri": "https://localhost:8080/"
        }
      },
      "outputs": [
        {
          "output_type": "stream",
          "name": "stdout",
          "text": [
            "Solution is correct!\n"
          ]
        }
      ],
      "source": [
        "assert 0.9 <= auroc <= 0.99\n",
        "\n",
        "print(\"Solution is correct!\")"
      ]
    },
    {
      "cell_type": "markdown",
      "metadata": {
        "editable": true,
        "pycharm": {
          "name": "#%% md\n"
        },
        "tags": [
          "ex"
        ],
        "id": "Vrr6b7yyBxzu"
      },
      "source": [
        "Patrząc na średnie wyniki (macro avg), precyzja znacząco wzrosła, a czułość lekko spadła. Skutkuje to poprawą F1, jednak nie wielką.  \n",
        "\n",
        "Wzrost precision oznacza, że mamy większą pewność w naszej decyzji określenia, czy firma zbankrutuje, jednak spadek recall oznacza, że częściej przegapiamy możliwe bankructwa.  \n",
        "\n",
        "Nie jest to pożądane, ponieważ inwestycja w firmę, która zbankrutuje, będzie bardzo kosztowna, a kandydatów (firm potrzebujących inwestora) raczej mamy dużo."
      ]
    },
    {
      "cell_type": "markdown",
      "metadata": {
        "editable": true,
        "pycharm": {
          "name": "#%% md\n"
        },
        "tags": [],
        "id": "XY1WvZnyBxzu"
      },
      "source": [
        "**Boosting - podsumowanie**\n",
        "\n",
        "1. Model oparty o uczenie zespołowe.\n",
        "2. Kolejne modele są dodawane sekwencyjnie i uczą się na błędach poprzedników.\n",
        "3. Nauka typowo jest oparta o minimalizację funkcji kosztu (błędu), z użyciem spadku wzdłuż gradientu.\n",
        "4. Wiodący model klasyfikacji dla danych tabelarycznych, z 2 głównymi implementacjami: XGBoost i LightGBM.\n",
        "5. Liczne hiperparametry, wymagające odpowiednich metod dostrajania."
      ]
    },
    {
      "cell_type": "markdown",
      "metadata": {
        "editable": true,
        "pycharm": {
          "name": "#%% md\n"
        },
        "tags": [],
        "id": "W2sL6_iSBxzv"
      },
      "source": [
        "## Wyjaśnialna AI"
      ]
    },
    {
      "cell_type": "markdown",
      "metadata": {
        "editable": true,
        "pycharm": {
          "name": "#%% md\n"
        },
        "tags": [],
        "id": "UYIoydLDBxzv"
      },
      "source": [
        "W ostatnich latach zaczęto zwracać coraz większą uwagę na wpływ sztucznej inteligencji na społeczeństwo, a na niektórych czołowych konferencjach ML nawet obowiązkowa jest sekcja \"Social impact\" w artykułach naukowych. Typowo im lepszy model, tym bardziej złożony, a najpopularniejsze modele boostingu są z natury skomplikowane. Kiedy mają podejmować krytyczne decyzje, to musimy wiedzieć, czemu predykcja jest taka, a nie inna. Jest to poddziedzina uczenia maszynowego - **wyjaśnialna AI (explainable AI, XAI)**.\n",
        "\n",
        "Taka informacja jest cenna, bo dzięki temu lepiej wiemy, co robi model. Jest to ważne z kilku powodów:\n",
        "1. Wymogi prawne - wdrażanie algorytmów w ekonomii, prawie etc. ma coraz częściej konkretne wymagania prawne co do wyjaśnialności predykcji.\n",
        "2. Dodatkowa wiedza dla użytkowników - często dodatkowe obserwacje co do próbek są ciekawe same w sobie i dają wiedzę użytkownikowi (często posiadającemu specjalistyczną wiedzę z dziedziny), czasem nawet bardziej niż sam model predykcyjny.\n",
        "3. Analiza modelu - dodatkowa wiedza o wewnętrznym działaniu algorytmu pozwala go lepiej zrozumieć i ulepszyć wyniki, np. przez lepszy preprocessing danych.\n",
        "\n",
        "W szczególności można ją podzielić na **globalną** oraz **lokalną interpretowalność (global / local interpretability)**. Ta pierwsza próbuje wyjaśnić, czemu ogólnie model działa tak, jak działa. Analizuje strukturę modelu oraz trendy w jego predykcjach, aby podsumować w prostszy sposób jego tok myślenia. Interpretowalność lokalna z kolei dotyczy predykcji dla konkretnych próbek - czemu dla danego przykładu model podejmuje dla niego taką, a nie inną decyzję o klasyfikacji.\n",
        "\n",
        "W szczególności podstawowym sposobem interpretowalności jest **ważność cech (feature importance)**. Wyznacza ona, jak ważne są poszczególne cechy:\n",
        "- w wariancie globalnym, jak mocno model opiera się na poszczególnych cechach,\n",
        "- w wariancie lokalnym, jak mocno konkretne wartości cech wpłynęły na predykcję, i w jaki sposób.\n",
        "\n",
        "Teraz będzie nas interesować globalna ważność cech. Dla modeli drzewiastych definiuje się ją bardzo prosto. Każdy podział w drzewie decyzyjnym wykorzystuje jakąś cechę i redukuje z pomocą podziału funkcję kosztu (np. entropię) o określoną ilość. Dla drzewa decyzyjnego ważność to sumaryczna redukcja entropii, jaką udało się uzyskać za pomocą danej cechy. Dla lasów losowych i boostingu sumujemy te wartości dla wszystkich drzew. Alternatywnie można też użyć liczby splitów, w jakiej została użyta dana cecha, ale jest to mniej standardowe.\n",
        "\n",
        "Warto zauważyć, że taka ważność cech jest **względna**:\n",
        "- nie mówimy, jak bardzo ogólnie ważna jest jakaś cecha, tylko jak bardzo przydatna była dla naszego modelu w celu jego wytrenowania,\n",
        "- ważność cech można tylko porównywać ze sobą, np. jedna jest 2 razy ważniejsza od drugiej; nie ma ogólnych progów ważności.\n",
        "\n",
        "Ze względu na powyższe, ważności cech normalizuje się często do zakresu [0, 1] dla łatwiejszego porównywania."
      ]
    },
    {
      "cell_type": "markdown",
      "metadata": {
        "editable": true,
        "tags": [
          "ex"
        ],
        "id": "xJPcKELvBxzv"
      },
      "source": [
        "### Zadanie 9 (0.5 punktu)"
      ]
    },
    {
      "cell_type": "markdown",
      "metadata": {
        "editable": true,
        "tags": [
          "ex"
        ],
        "id": "6zjDEL3fBxzv"
      },
      "source": [
        "1. Wybierz 5 najważniejszych cech dla drzewa decyzyjnego. Przedstaw wyniki na poziomym wykresie słupkowym. Użyj czytelnych nazw cech ze zmiennej `feature_names`.\n",
        "2. Powtórz powyższe dla lasu losowego, oraz dla boostingu (tutaj znormalizuj wyniki - patrz uwaga niżej). Wybierz te hiperparametry, które dały wcześniej najlepsze wyniki.\n",
        "3. Skomentuj, czy wybrane cechy twoim zdaniem mają sens jako najważniejsze cechy.\n",
        "\n",
        "**Uwaga:** Scikit-learn normalizuje ważności do zakresu [0, 1], natomiast LightGBM nie. Musisz to znormalizować samodzielnie, dzieląc przez sumę."
      ]
    },
    {
      "cell_type": "code",
      "execution_count": 25,
      "metadata": {
        "editable": true,
        "tags": [
          "ex"
        ],
        "id": "1_RTG2TtBxzv",
        "outputId": "424405e4-46e0-42a0-f367-9c8336d389d7",
        "colab": {
          "base_uri": "https://localhost:8080/",
          "height": 1000
        }
      },
      "outputs": [
        {
          "output_type": "display_data",
          "data": {
            "text/plain": [
              "<Figure size 640x480 with 1 Axes>"
            ],
            "image/png": "[encoded data removed]"
          },
          "metadata": {}
        },
        {
          "output_type": "display_data",
          "data": {
            "text/plain": [
              "<Figure size 640x480 with 1 Axes>"
            ],
            "image/png": "[encoded data removed]"
          },
          "metadata": {}
        },
        {
          "output_type": "display_data",
          "data": {
            "text/plain": [
              "<Figure size 640x480 with 1 Axes>"
            ],
            "image/png": "[encoded data removed]"
          },
          "metadata": {}
        }
      ],
      "source": [
        "# your_code\n",
        "def plot_feature_importance(classifier, title, normalize=False):\n",
        "  global feature_names\n",
        "  importances = classifier.feature_importances_\n",
        "  if normalize:\n",
        "    importances = importances / importances.sum()\n",
        "  indices = np.argsort(importances)[-5:][::-1]\n",
        "  top_features = [feature_names[i] for i in indices]\n",
        "  top_importances = importances[indices]\n",
        "  plt.barh(top_features, top_importances)\n",
        "  plt.title(title)\n",
        "  plt.xlabel(\"Importance\")\n",
        "  plt.show()\n",
        "  return\n",
        "\n",
        "\n",
        "tree = DecisionTreeClassifier(random_state=0)\n",
        "tree.fit(X_train_smoted, y_train_smoted)\n",
        "\n",
        "plot_feature_importance(tree, \"Decision Tree\")\n",
        "\n",
        "forest = RandomForestClassifier(n_estimators=500, criterion='entropy', random_state=0, n_jobs=-1, **best_params_forest)\n",
        "forest.fit(X_train_smoted, y_train_smoted)\n",
        "\n",
        "plot_feature_importance(forest, \"Random Forest\")\n",
        "\n",
        "lgbm = LGBMClassifier(importance_type=\"gain\", random_state=0, n_jobs=-1, **best_params_lgbm)\n",
        "lgbm.fit(X_train_smoted, y_train_smoted)\n",
        "\n",
        "plot_feature_importance(lgbm, \"LightGBM\", normalize=True)"
      ]
    },
    {
      "cell_type": "markdown",
      "metadata": {
        "editable": true,
        "tags": [
          "ex"
        ],
        "id": "JKLJI1EtBxzv"
      },
      "source": [
        "mają sens, najczęściej pojawiające się parametry to porównanie profitu do wydatków, wzrost liczby sprzredaży. Te parametry mają kluczowy wpływ na sukces / updaek firmy"
      ]
    },
    {
      "cell_type": "markdown",
      "metadata": {
        "id": "WRgAox1mBxzv"
      },
      "source": [
        "### Dla zainteresowanych\n",
        "\n",
        "Najpopularniejszym podejściem do interpretowalności lokalnych jest **SHAP (SHapley Additive exPlanations)**, metoda oparta o kooperatywną teorię gier. Traktuje się cechy modelu jak zbiór graczy, podzielonych na dwie drużyny (koalicje): jedna chce zaklasyfikować próbkę jako negatywną, a druga jako pozytywną. O ostatecznej decyzji decyduje model, który wykorzystuje te wartości cech. Powstaje pytanie - w jakim stopniu wartości cech przyczyniły się do wyniku swojej drużyny? Można to obliczyć jako wartości Shapleya (Shapley values), które dla modeli ML oblicza algorytm SHAP. Ma on bardzo znaczące, udowodnione matematycznie zalety, a dodatkowo posiada wyjątkowo efektywną implementację dla modeli drzewiastych oraz dobre wizualizacje.\n",
        "\n",
        "Bardzo intuicyjnie, na prostym przykładzie, SHAPa wyjaśnia [pierwsza część tego artykułu](https://iancovert.com/blog/understanding-shap-sage/). Dobrze i dość szczegółówo SHAPa wyjaśnia jego autor [w tym filmie](https://www.youtube.com/watch?v=-taOhqkiuIo)."
      ]
    },
    {
      "cell_type": "markdown",
      "metadata": {
        "pycharm": {
          "name": "#%% md\n"
        },
        "id": "_X53uHWqBxzv"
      },
      "source": [
        "**Wyjaśnialna AI - podsumowanie**\n",
        "\n",
        "1. Problem zrozumienia, jak wnioskuje model i czemu podejmuje określone decyzje.\n",
        "2. Ważne zarówno z perspektywy data badaczy danych, jak i użytkowników systemu.\n",
        "3. Można wyjaśniać model lokalnie (konkretne predykcje) lub globalnie (wpływ poszczególnych cech)."
      ]
    },
    {
      "cell_type": "markdown",
      "metadata": {
        "editable": true,
        "tags": [
          "ex"
        ],
        "id": "JgNloWZYBxzv"
      },
      "source": [
        "## Zadanie dodatkowe (3 punkty)"
      ]
    },
    {
      "cell_type": "markdown",
      "metadata": {
        "editable": true,
        "pycharm": {
          "name": "#%% md\n"
        },
        "tags": [
          "ex"
        ],
        "id": "yHc2sQ8vBxzw"
      },
      "source": [
        "Dokonaj selekcji cech, usuwając 20% najsłabszych cech. Może się tu przydać klasa `SelectPercentile`. Czy Random Forest i LightGBM (bez dostrajania hiperparametrów, dla uproszczenia) wytrenowane bez najsłabszych cech dają lepszy wynik (AUROC lub innej metryki)?\n",
        "\n",
        "Wykorzystaj po 1 algorytmie z 3 grup algorytmów selekcji cech:\n",
        "1. Filter methods - mierzymy ważność każdej cechy niezależnie, za pomocą pewnej miary (typowo ze statystyki lub teorii informacji), a potem odrzucamy (filtrujemy) te o najniższej ważności. Są to np. `chi2` i `mutual_info_classif` z pakietu `sklearn.feature_selection`.\n",
        "2. Embedded methods - klasyfikator sam zwraca ważność cech, jest jego wbudowaną cechą (stąd nazwa). Jest to w szczególności właściwość wszystkich zespołowych klasyfikatorów drzewiastych. Mają po wytrenowaniu atrybut `feature_importances_`.\n",
        "2. Wrapper methods - algorytmy wykorzystujące w środku używany model (stąd nazwa), mierzące ważność cech za pomocą ich wpływu na jakość klasyfikatora. Jest to np. recursive feature elimination (klasa `RFE`). W tym algorytmie trenujemy klasyfikator na wszystkich cechach, wyrzucamy najsłabszą, trenujemy znowu i tak dalej.\n",
        "\n",
        "Typowo metody filter są najszybsze, ale dają najsłabszy wynik, natomiast metody wrapper są najwolniejsze i dają najlepszy wynik. Metody embedded są gdzieś pośrodku.\n",
        "\n",
        "Dla zainteresowanych, inne znane i bardzo dobre algorytmy:\n",
        "- Relief (filter method) oraz warianty, szczególnie ReliefF, SURF i MultiSURF (biblioteka `ReBATE`): [Wikipedia](https://en.wikipedia.org/wiki/Relief_(feature_selection)), [artykuł \"Benchmarking Relief-Based Feature Selection Methods\"](https://www.researchgate.net/publication/321307194_Benchmarking_Relief-Based_Feature_Selection_Methods)\n",
        "- Boruta (wrapper method), stworzony na Uniwersytecie Warszawskim, łączący Random Forest oraz testy statystyczne (biblioteka `boruta_py`): [link 1](https://towardsdatascience.com/boruta-explained-the-way-i-wish-someone-explained-it-to-me-4489d70e154a), [link 2](https://danielhomola.com/feature%20selection/phd/borutapy-an-all-relevant-feature-selection-method/)"
      ]
    },
    {
      "cell_type": "code",
      "execution_count": 26,
      "metadata": {
        "editable": true,
        "pycharm": {
          "name": "#%%\n"
        },
        "tags": [
          "ex"
        ],
        "id": "oQ_95vyHBxzw"
      },
      "outputs": [],
      "source": [
        "from sklearn.feature_selection import SelectPercentile, mutual_info_classif, RFE\n",
        "\n",
        "def show_filtered_auroc(X_selected, select_title, X_selected_LGBM=None):\n",
        "  global y_train_smoted, y_test\n",
        "  X_train_selected, X_test_selected = X_selected\n",
        "\n",
        "  forest = RandomForestClassifier(n_estimators=500, criterion='entropy', random_state=0, n_jobs=-1)\n",
        "  forest.fit(X_train_selected, y_train_smoted)\n",
        "  y_proba = forest.predict_proba(X_test_selected)[:,1]\n",
        "  auroc = roc_auc_score(y_test, y_proba)\n",
        "  print(f\"{select_title}, Forest: {auroc = :.4f}\")\n",
        "\n",
        "  if X_selected_LGBM is not None:\n",
        "    X_train_selected, X_test_selected = X_selected_LGBM\n",
        "  lgbm = LGBMClassifier(importance_type=\"gain\", random_state=0, n_jobs=-1)\n",
        "  lgbm.fit(X_train_selected, y_train_smoted)\n",
        "  y_proba = lgbm.predict_proba(X_test_selected)[:,1]\n",
        "  auroc = roc_auc_score(y_test, y_proba)\n",
        "  print(f\"{select_title}, LGBM: {auroc = :.4f}\")\n",
        "  return"
      ]
    },
    {
      "cell_type": "code",
      "source": [
        "selector_filter = SelectPercentile(mutual_info_classif, percentile=80)\n",
        "selector_filter.fit(X_train_smoted, y_train_smoted)\n",
        "\n",
        "show_filtered_auroc(\n",
        "    (\n",
        "        pd.DataFrame(\n",
        "            selector_filter.transform(X_train_smoted),\n",
        "            columns=X_train_smoted.columns[selector_filter.get_support()]\n",
        "        ),\n",
        "        pd.DataFrame(\n",
        "            selector_filter.transform(X_test),\n",
        "            columns=X_test.columns[selector_filter.get_support()]\n",
        "        )\n",
        "    ),\n",
        "    \"Filter\"\n",
        ")\n"
      ],
      "metadata": {
        "id": "9j8eOEHAduJx",
        "outputId": "72fbb868-46fa-406a-d375-6fc57ae8953b",
        "colab": {
          "base_uri": "https://localhost:8080/"
        }
      },
      "execution_count": 31,
      "outputs": [
        {
          "output_type": "stream",
          "name": "stdout",
          "text": [
            "Filter, Forest: auroc = 0.8970\n",
            "Filter, LGBM: auroc = 0.9246\n"
          ]
        }
      ]
    },
    {
      "cell_type": "code",
      "source": [
        "forest_embedded = RandomForestClassifier(\n",
        "    n_estimators=500,\n",
        "    criterion='entropy',\n",
        "    random_state=0,\n",
        "    n_jobs=-1\n",
        ")\n",
        "forest_embedded.fit(X_train_smoted, y_train_smoted)\n",
        "\n",
        "importances_forest = forest_embedded.feature_importances_\n",
        "num_features_forest = int(len(importances_forest) * 0.2)\n",
        "top_indices_forest = np.argsort(importances_forest)[-num_features_forest:]\n",
        "\n",
        "\n",
        "lgbm_embedded = LGBMClassifier(\n",
        "    importance_type=\"gain\",\n",
        "    random_state=0,\n",
        "    n_jobs=-1\n",
        ")\n",
        "lgbm_embedded.fit(X_train_smoted, y_train_smoted)\n",
        "\n",
        "importances_lgbm = lgbm_embedded.feature_importances_\n",
        "num_features_lgbm = int(len(importances_lgbm) * 0.2)\n",
        "top_indices_lgbm = np.argsort(importances_lgbm)[-num_features_lgbm:]\n",
        "\n",
        "\n",
        "show_filtered_auroc(\n",
        "    (\n",
        "        X_train_smoted.iloc[:, top_indices_forest],\n",
        "        X_test.iloc[:, top_indices_forest]\n",
        "    ),\n",
        "    \"Embedded\",\n",
        "    (\n",
        "        X_train_smoted.iloc[:, top_indices_lgbm],\n",
        "        X_test.iloc[:, top_indices_lgbm]\n",
        "    )\n",
        ")\n"
      ],
      "metadata": {
        "id": "47feEztHfWgv",
        "outputId": "89b3bff7-b3cc-4d81-8ac4-9e0ef18fe5c5",
        "colab": {
          "base_uri": "https://localhost:8080/"
        }
      },
      "execution_count": 30,
      "outputs": [
        {
          "output_type": "stream",
          "name": "stdout",
          "text": [
            "Embedded, Forest: auroc = 0.9056\n",
            "Embedded, LGBM: auroc = 0.9370\n"
          ]
        }
      ]
    },
    {
      "cell_type": "code",
      "source": [
        "forest_rfe = RandomForestClassifier(n_estimators=500, criterion='entropy', random_state=0, n_jobs=-1)\n",
        "rfe_forest = RFE(forest_rfe, n_features_to_select=int(X_train_smoted.shape[1]*0.8), verbose=2)\n",
        "rfe_forest.fit(X_train_smoted, y_train_smoted)\n",
        "\n",
        "\n",
        "lgbm_rfe = LGBMClassifier(importance_type=\"gain\", random_state=0, n_jobs=-1)\n",
        "rfe_lgbm = RFE(lgbm_rfe, n_features_to_select=int(X_train_smoted.shape[1]*0.8), verbose=2)\n",
        "rfe_lgbm.fit(X_train_smoted, y_train_smoted)\n",
        "\n",
        "forest_selected = X_train_smoted.columns[rfe_forest.get_support()]\n",
        "lgbm_selected = X_train_smoted.columns[rfe_lgbm.get_support()]\n",
        "\n",
        "X_train_forest_rfe = pd.DataFrame(\n",
        "    rfe_forest.transform(X_train_smoted),\n",
        "    columns=forest_selected,\n",
        "    index=X_train_smoted.index\n",
        ")\n",
        "X_test_forest_rfe = pd.DataFrame(\n",
        "    rfe_forest.transform(X_test),\n",
        "    columns=forest_selected,\n",
        "    index=X_test.index\n",
        ")\n",
        "\n",
        "X_train_lgbm_rfe = pd.DataFrame(\n",
        "    rfe_lgbm.transform(X_train_smoted),\n",
        "    columns=lgbm_selected,\n",
        "    index=X_train_smoted.index\n",
        ")\n",
        "X_test_lgbm_rfe = pd.DataFrame(\n",
        "    rfe_lgbm.transform(X_test),\n",
        "    columns=lgbm_selected,\n",
        "    index=X_test.index\n",
        ")\n",
        "\n",
        "show_filtered_auroc(\n",
        "    (X_train_forest_rfe, X_test_forest_rfe),\n",
        "    \"Wrapper\",\n",
        "    (X_train_lgbm_rfe, X_test_lgbm_rfe)\n",
        ")"
      ],
      "metadata": {
        "id": "hGReF-U2Zj4x",
        "outputId": "838b9ed8-3269-4683-f7e5-31716cc9d239",
        "colab": {
          "base_uri": "https://localhost:8080/"
        }
      },
      "execution_count": 36,
      "outputs": [
        {
          "output_type": "stream",
          "name": "stdout",
          "text": [
            "Fitting estimator with 63 features.\n",
            "Fitting estimator with 62 features.\n",
            "Fitting estimator with 61 features.\n",
            "Fitting estimator with 60 features.\n",
            "Fitting estimator with 59 features.\n",
            "Fitting estimator with 58 features.\n",
            "Fitting estimator with 57 features.\n",
            "Fitting estimator with 56 features.\n",
            "Fitting estimator with 55 features.\n",
            "Fitting estimator with 54 features.\n",
            "Fitting estimator with 53 features.\n",
            "Fitting estimator with 52 features.\n",
            "Fitting estimator with 51 features.\n",
            "Fitting estimator with 63 features.\n",
            "Fitting estimator with 62 features.\n",
            "Fitting estimator with 61 features.\n",
            "Fitting estimator with 60 features.\n",
            "Fitting estimator with 59 features.\n",
            "Fitting estimator with 58 features.\n",
            "Fitting estimator with 57 features.\n",
            "Fitting estimator with 56 features.\n",
            "Fitting estimator with 55 features.\n",
            "Fitting estimator with 54 features.\n",
            "Fitting estimator with 53 features.\n",
            "Fitting estimator with 52 features.\n",
            "Fitting estimator with 51 features.\n",
            "Wrapper, Forest: auroc = 0.9113\n",
            "Wrapper, LGBM: auroc = 0.9437\n"
          ]
        },
        {
          "output_type": "stream",
          "name": "stderr",
          "text": [
            "/usr/local/lib/python3.12/dist-packages/sklearn/utils/validation.py:2739: UserWarning: X does not have valid feature names, but LGBMClassifier was fitted with feature names\n",
            "  warnings.warn(\n"
          ]
        }
      ]
    },
    {
      "cell_type": "markdown",
      "source": [
        "Selector zgodnie z oczekiwaniami daje najgorszy wynik\n",
        "\n",
        "Wrapper zgodnie z oczekiwaniami daje najlepszy wynik"
      ],
      "metadata": {
        "id": "idrjJ31vG83e"
      }
    }
  ],
  "metadata": {
    "jupytext": {
      "formats": "ipynb,py:percent"
    },
    "kernelspec": {
      "display_name": "Python 3 (ipykernel)",
      "language": "python",
      "name": "python3"
    },
    "language_info": {
      "codemirror_mode": {
        "name": "ipython",
        "version": 3
      },
      "file_extension": ".py",
      "mimetype": "text/x-python",
      "name": "python",
      "nbconvert_exporter": "python",
      "pygments_lexer": "ipython3",
      "version": "3.11.13"
    },
    "colab": {
      "provenance": []
    }
  },
  "nbformat": 4,
  "nbformat_minor": 0
}